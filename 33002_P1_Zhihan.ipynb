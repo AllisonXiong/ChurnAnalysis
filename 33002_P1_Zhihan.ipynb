{
 "cells": [
  {
   "cell_type": "markdown",
   "metadata": {},
   "source": [
    "## 0. Import data"
   ]
  },
  {
   "cell_type": "code",
   "execution_count": 1,
   "metadata": {},
   "outputs": [],
   "source": [
    "import pandas as pd\n",
    "import numpy as np\n",
    "import matplotlib.pyplot as plt\n",
    "import seaborn as sns"
   ]
  },
  {
   "cell_type": "code",
   "execution_count": 2,
   "metadata": {},
   "outputs": [],
   "source": [
    "df = pd.read_csv('churn.csv')"
   ]
  },
  {
   "cell_type": "code",
   "execution_count": 3,
   "metadata": {},
   "outputs": [],
   "source": [
    "df2 = df[df.churn=='yes']\n",
    "df = df.append(df2)"
   ]
  },
  {
   "cell_type": "code",
   "execution_count": 4,
   "metadata": {},
   "outputs": [],
   "source": [
    "df.reset_index(inplace=True)"
   ]
  },
  {
   "cell_type": "code",
   "execution_count": 24,
   "metadata": {},
   "outputs": [
    {
     "data": {
      "text/plain": [
       "(4848, 21)"
      ]
     },
     "execution_count": 24,
     "metadata": {},
     "output_type": "execute_result"
    }
   ],
   "source": [
    "df.shape"
   ]
  },
  {
   "cell_type": "code",
   "execution_count": 28,
   "metadata": {},
   "outputs": [
    {
     "data": {
      "text/plain": [
       "no     3652\n",
       "yes    1196\n",
       "Name: churn, dtype: int64"
      ]
     },
     "execution_count": 28,
     "metadata": {},
     "output_type": "execute_result"
    }
   ],
   "source": [
    "df.churn.value_counts()"
   ]
  },
  {
   "cell_type": "code",
   "execution_count": 50,
   "metadata": {},
   "outputs": [
    {
     "data": {
      "text/plain": [
       "Index(['account_length', 'area_code', 'international_plan', 'voice_mail_plan',\n",
       "       'number_vmail_messages', 'total_day_minutes', 'total_day_calls',\n",
       "       'total_day_charge', 'total_eve_minutes', 'total_eve_calls',\n",
       "       'total_eve_charge', 'total_night_minutes', 'total_night_calls',\n",
       "       'total_night_charge', 'total_intl_minutes', 'total_intl_calls',\n",
       "       'total_intl_charge', 'number_customer_service_calls', 'churn'],\n",
       "      dtype='object')"
      ]
     },
     "execution_count": 50,
     "metadata": {},
     "output_type": "execute_result"
    }
   ],
   "source": [
    "df.columns"
   ]
  },
  {
   "cell_type": "code",
   "execution_count": 51,
   "metadata": {
    "scrolled": true
   },
   "outputs": [
    {
     "name": "stdout",
     "output_type": "stream",
     "text": [
      "<class 'pandas.core.frame.DataFrame'>\n",
      "Int64Index: 4848 entries, 0 to 4244\n",
      "Data columns (total 19 columns):\n",
      " #   Column                         Non-Null Count  Dtype  \n",
      "---  ------                         --------------  -----  \n",
      " 0   account_length                 4848 non-null   int64  \n",
      " 1   area_code                      4848 non-null   object \n",
      " 2   international_plan             4848 non-null   object \n",
      " 3   voice_mail_plan                4848 non-null   object \n",
      " 4   number_vmail_messages          4848 non-null   int64  \n",
      " 5   total_day_minutes              4848 non-null   float64\n",
      " 6   total_day_calls                4848 non-null   int64  \n",
      " 7   total_day_charge               4848 non-null   float64\n",
      " 8   total_eve_minutes              4848 non-null   float64\n",
      " 9   total_eve_calls                4848 non-null   int64  \n",
      " 10  total_eve_charge               4848 non-null   float64\n",
      " 11  total_night_minutes            4848 non-null   float64\n",
      " 12  total_night_calls              4848 non-null   int64  \n",
      " 13  total_night_charge             4848 non-null   float64\n",
      " 14  total_intl_minutes             4848 non-null   float64\n",
      " 15  total_intl_calls               4848 non-null   int64  \n",
      " 16  total_intl_charge              4848 non-null   float64\n",
      " 17  number_customer_service_calls  4848 non-null   int64  \n",
      " 18  churn                          4848 non-null   object \n",
      "dtypes: float64(8), int64(7), object(4)\n",
      "memory usage: 886.5+ KB\n"
     ]
    }
   ],
   "source": [
    "df.info()"
   ]
  },
  {
   "cell_type": "markdown",
   "metadata": {},
   "source": [
    "## 1. Data Basics\n",
    "#### Distribution"
   ]
  },
  {
   "cell_type": "code",
   "execution_count": 17,
   "metadata": {},
   "outputs": [
    {
     "data": {
      "text/html": [
       "<div>\n",
       "<style scoped>\n",
       "    .dataframe tbody tr th:only-of-type {\n",
       "        vertical-align: middle;\n",
       "    }\n",
       "\n",
       "    .dataframe tbody tr th {\n",
       "        vertical-align: top;\n",
       "    }\n",
       "\n",
       "    .dataframe thead th {\n",
       "        text-align: right;\n",
       "    }\n",
       "</style>\n",
       "<table border=\"1\" class=\"dataframe\">\n",
       "  <thead>\n",
       "    <tr style=\"text-align: right;\">\n",
       "      <th></th>\n",
       "      <th>account_length</th>\n",
       "      <th>number_vmail_messages</th>\n",
       "      <th>total_day_minutes</th>\n",
       "      <th>total_day_calls</th>\n",
       "      <th>total_day_charge</th>\n",
       "      <th>total_eve_minutes</th>\n",
       "      <th>total_eve_calls</th>\n",
       "      <th>total_eve_charge</th>\n",
       "      <th>total_night_minutes</th>\n",
       "      <th>total_night_calls</th>\n",
       "      <th>total_night_charge</th>\n",
       "      <th>total_intl_minutes</th>\n",
       "      <th>total_intl_calls</th>\n",
       "      <th>total_intl_charge</th>\n",
       "      <th>number_customer_service_calls</th>\n",
       "    </tr>\n",
       "  </thead>\n",
       "  <tbody>\n",
       "    <tr>\n",
       "      <th>count</th>\n",
       "      <td>4848.000000</td>\n",
       "      <td>4848.000000</td>\n",
       "      <td>4848.000000</td>\n",
       "      <td>4848.000000</td>\n",
       "      <td>4848.000000</td>\n",
       "      <td>4848.000000</td>\n",
       "      <td>4848.000000</td>\n",
       "      <td>4848.000000</td>\n",
       "      <td>4848.000000</td>\n",
       "      <td>4848.000000</td>\n",
       "      <td>4848.000000</td>\n",
       "      <td>4848.000000</td>\n",
       "      <td>4848.000000</td>\n",
       "      <td>4848.000000</td>\n",
       "      <td>4848.000000</td>\n",
       "    </tr>\n",
       "    <tr>\n",
       "      <th>mean</th>\n",
       "      <td>100.470710</td>\n",
       "      <td>7.220710</td>\n",
       "      <td>183.803507</td>\n",
       "      <td>99.977723</td>\n",
       "      <td>31.247123</td>\n",
       "      <td>201.381621</td>\n",
       "      <td>100.135107</td>\n",
       "      <td>17.117663</td>\n",
       "      <td>201.243791</td>\n",
       "      <td>99.761757</td>\n",
       "      <td>9.056104</td>\n",
       "      <td>10.302496</td>\n",
       "      <td>4.400578</td>\n",
       "      <td>2.782186</td>\n",
       "      <td>1.647483</td>\n",
       "    </tr>\n",
       "    <tr>\n",
       "      <th>std</th>\n",
       "      <td>39.658824</td>\n",
       "      <td>13.220791</td>\n",
       "      <td>56.887760</td>\n",
       "      <td>19.993343</td>\n",
       "      <td>9.670936</td>\n",
       "      <td>50.479266</td>\n",
       "      <td>19.887732</td>\n",
       "      <td>4.290739</td>\n",
       "      <td>50.215052</td>\n",
       "      <td>20.113254</td>\n",
       "      <td>2.259690</td>\n",
       "      <td>2.766847</td>\n",
       "      <td>2.484533</td>\n",
       "      <td>0.747015</td>\n",
       "      <td>1.405180</td>\n",
       "    </tr>\n",
       "    <tr>\n",
       "      <th>min</th>\n",
       "      <td>1.000000</td>\n",
       "      <td>0.000000</td>\n",
       "      <td>0.000000</td>\n",
       "      <td>0.000000</td>\n",
       "      <td>0.000000</td>\n",
       "      <td>0.000000</td>\n",
       "      <td>0.000000</td>\n",
       "      <td>0.000000</td>\n",
       "      <td>0.000000</td>\n",
       "      <td>0.000000</td>\n",
       "      <td>0.000000</td>\n",
       "      <td>0.000000</td>\n",
       "      <td>0.000000</td>\n",
       "      <td>0.000000</td>\n",
       "      <td>0.000000</td>\n",
       "    </tr>\n",
       "    <tr>\n",
       "      <th>25%</th>\n",
       "      <td>73.000000</td>\n",
       "      <td>0.000000</td>\n",
       "      <td>143.975000</td>\n",
       "      <td>87.000000</td>\n",
       "      <td>24.475000</td>\n",
       "      <td>167.300000</td>\n",
       "      <td>87.000000</td>\n",
       "      <td>14.220000</td>\n",
       "      <td>167.800000</td>\n",
       "      <td>86.000000</td>\n",
       "      <td>7.550000</td>\n",
       "      <td>8.600000</td>\n",
       "      <td>3.000000</td>\n",
       "      <td>2.320000</td>\n",
       "      <td>1.000000</td>\n",
       "    </tr>\n",
       "    <tr>\n",
       "      <th>50%</th>\n",
       "      <td>100.000000</td>\n",
       "      <td>0.000000</td>\n",
       "      <td>182.650000</td>\n",
       "      <td>100.000000</td>\n",
       "      <td>31.050000</td>\n",
       "      <td>202.200000</td>\n",
       "      <td>100.000000</td>\n",
       "      <td>17.190000</td>\n",
       "      <td>201.500000</td>\n",
       "      <td>100.000000</td>\n",
       "      <td>9.070000</td>\n",
       "      <td>10.400000</td>\n",
       "      <td>4.000000</td>\n",
       "      <td>2.810000</td>\n",
       "      <td>1.000000</td>\n",
       "    </tr>\n",
       "    <tr>\n",
       "      <th>75%</th>\n",
       "      <td>127.000000</td>\n",
       "      <td>0.000000</td>\n",
       "      <td>222.100000</td>\n",
       "      <td>113.000000</td>\n",
       "      <td>37.760000</td>\n",
       "      <td>235.300000</td>\n",
       "      <td>114.000000</td>\n",
       "      <td>20.000000</td>\n",
       "      <td>235.300000</td>\n",
       "      <td>113.250000</td>\n",
       "      <td>10.590000</td>\n",
       "      <td>12.100000</td>\n",
       "      <td>6.000000</td>\n",
       "      <td>3.270000</td>\n",
       "      <td>2.000000</td>\n",
       "    </tr>\n",
       "    <tr>\n",
       "      <th>max</th>\n",
       "      <td>243.000000</td>\n",
       "      <td>52.000000</td>\n",
       "      <td>351.500000</td>\n",
       "      <td>165.000000</td>\n",
       "      <td>59.760000</td>\n",
       "      <td>359.300000</td>\n",
       "      <td>170.000000</td>\n",
       "      <td>30.540000</td>\n",
       "      <td>395.000000</td>\n",
       "      <td>175.000000</td>\n",
       "      <td>17.770000</td>\n",
       "      <td>20.000000</td>\n",
       "      <td>20.000000</td>\n",
       "      <td>5.400000</td>\n",
       "      <td>9.000000</td>\n",
       "    </tr>\n",
       "  </tbody>\n",
       "</table>\n",
       "</div>"
      ],
      "text/plain": [
       "       account_length  number_vmail_messages  total_day_minutes  \\\n",
       "count     4848.000000            4848.000000        4848.000000   \n",
       "mean       100.470710               7.220710         183.803507   \n",
       "std         39.658824              13.220791          56.887760   \n",
       "min          1.000000               0.000000           0.000000   \n",
       "25%         73.000000               0.000000         143.975000   \n",
       "50%        100.000000               0.000000         182.650000   \n",
       "75%        127.000000               0.000000         222.100000   \n",
       "max        243.000000              52.000000         351.500000   \n",
       "\n",
       "       total_day_calls  total_day_charge  total_eve_minutes  total_eve_calls  \\\n",
       "count      4848.000000       4848.000000        4848.000000      4848.000000   \n",
       "mean         99.977723         31.247123         201.381621       100.135107   \n",
       "std          19.993343          9.670936          50.479266        19.887732   \n",
       "min           0.000000          0.000000           0.000000         0.000000   \n",
       "25%          87.000000         24.475000         167.300000        87.000000   \n",
       "50%         100.000000         31.050000         202.200000       100.000000   \n",
       "75%         113.000000         37.760000         235.300000       114.000000   \n",
       "max         165.000000         59.760000         359.300000       170.000000   \n",
       "\n",
       "       total_eve_charge  total_night_minutes  total_night_calls  \\\n",
       "count       4848.000000          4848.000000        4848.000000   \n",
       "mean          17.117663           201.243791          99.761757   \n",
       "std            4.290739            50.215052          20.113254   \n",
       "min            0.000000             0.000000           0.000000   \n",
       "25%           14.220000           167.800000          86.000000   \n",
       "50%           17.190000           201.500000         100.000000   \n",
       "75%           20.000000           235.300000         113.250000   \n",
       "max           30.540000           395.000000         175.000000   \n",
       "\n",
       "       total_night_charge  total_intl_minutes  total_intl_calls  \\\n",
       "count         4848.000000         4848.000000       4848.000000   \n",
       "mean             9.056104           10.302496          4.400578   \n",
       "std              2.259690            2.766847          2.484533   \n",
       "min              0.000000            0.000000          0.000000   \n",
       "25%              7.550000            8.600000          3.000000   \n",
       "50%              9.070000           10.400000          4.000000   \n",
       "75%             10.590000           12.100000          6.000000   \n",
       "max             17.770000           20.000000         20.000000   \n",
       "\n",
       "       total_intl_charge  number_customer_service_calls  \n",
       "count        4848.000000                    4848.000000  \n",
       "mean            2.782186                       1.647483  \n",
       "std             0.747015                       1.405180  \n",
       "min             0.000000                       0.000000  \n",
       "25%             2.320000                       1.000000  \n",
       "50%             2.810000                       1.000000  \n",
       "75%             3.270000                       2.000000  \n",
       "max             5.400000                       9.000000  "
      ]
     },
     "execution_count": 17,
     "metadata": {},
     "output_type": "execute_result"
    }
   ],
   "source": [
    "df.describe()"
   ]
  },
  {
   "cell_type": "code",
   "execution_count": 18,
   "metadata": {
    "scrolled": true
   },
   "outputs": [
    {
     "data": {
      "text/plain": [
       "array(['area_code_408', 'area_code_415', 'area_code_510'], dtype=object)"
      ]
     },
     "execution_count": 18,
     "metadata": {},
     "output_type": "execute_result"
    }
   ],
   "source": [
    "np.unique(df.area_code)"
   ]
  },
  {
   "cell_type": "code",
   "execution_count": 5,
   "metadata": {},
   "outputs": [
    {
     "name": "stderr",
     "output_type": "stream",
     "text": [
      "/opt/anaconda3/lib/python3.7/site-packages/ipykernel_launcher.py:2: FutureWarning: In a future version of pandas all arguments of DataFrame.drop except for the argument 'labels' will be keyword-only\n",
      "  \n"
     ]
    }
   ],
   "source": [
    "# This variable makes no sense, so for now i would drop it\n",
    "df = df.drop('area_code', 1)"
   ]
  },
  {
   "cell_type": "code",
   "execution_count": 10,
   "metadata": {
    "collapsed": true
   },
   "outputs": [
    {
     "data": {
      "text/html": [
       "<div>\n",
       "<style scoped>\n",
       "    .dataframe tbody tr th:only-of-type {\n",
       "        vertical-align: middle;\n",
       "    }\n",
       "\n",
       "    .dataframe tbody tr th {\n",
       "        vertical-align: top;\n",
       "    }\n",
       "\n",
       "    .dataframe thead th {\n",
       "        text-align: right;\n",
       "    }\n",
       "</style>\n",
       "<table border=\"1\" class=\"dataframe\">\n",
       "  <thead>\n",
       "    <tr style=\"text-align: right;\">\n",
       "      <th></th>\n",
       "      <th>state</th>\n",
       "      <th>account_length</th>\n",
       "      <th>area_code</th>\n",
       "      <th>international_plan</th>\n",
       "      <th>voice_mail_plan</th>\n",
       "      <th>number_vmail_messages</th>\n",
       "      <th>total_day_minutes</th>\n",
       "      <th>total_day_calls</th>\n",
       "      <th>total_day_charge</th>\n",
       "      <th>total_eve_minutes</th>\n",
       "      <th>total_eve_calls</th>\n",
       "      <th>total_eve_charge</th>\n",
       "      <th>total_night_minutes</th>\n",
       "      <th>total_night_calls</th>\n",
       "      <th>total_night_charge</th>\n",
       "      <th>total_intl_minutes</th>\n",
       "      <th>total_intl_calls</th>\n",
       "      <th>total_intl_charge</th>\n",
       "      <th>number_customer_service_calls</th>\n",
       "      <th>churn</th>\n",
       "    </tr>\n",
       "  </thead>\n",
       "  <tbody>\n",
       "    <tr>\n",
       "      <td>114</td>\n",
       "      <td>AK</td>\n",
       "      <td>127</td>\n",
       "      <td>area_code_510</td>\n",
       "      <td>no</td>\n",
       "      <td>yes</td>\n",
       "      <td>36</td>\n",
       "      <td>183.2</td>\n",
       "      <td>117</td>\n",
       "      <td>31.14</td>\n",
       "      <td>126.8</td>\n",
       "      <td>76</td>\n",
       "      <td>10.78</td>\n",
       "      <td>263.3</td>\n",
       "      <td>71</td>\n",
       "      <td>11.85</td>\n",
       "      <td>11.2</td>\n",
       "      <td>8</td>\n",
       "      <td>3.02</td>\n",
       "      <td>1</td>\n",
       "      <td>no</td>\n",
       "    </tr>\n",
       "    <tr>\n",
       "      <td>30</td>\n",
       "      <td>AK</td>\n",
       "      <td>136</td>\n",
       "      <td>area_code_415</td>\n",
       "      <td>yes</td>\n",
       "      <td>yes</td>\n",
       "      <td>33</td>\n",
       "      <td>203.9</td>\n",
       "      <td>106</td>\n",
       "      <td>34.66</td>\n",
       "      <td>187.6</td>\n",
       "      <td>99</td>\n",
       "      <td>15.95</td>\n",
       "      <td>101.7</td>\n",
       "      <td>107</td>\n",
       "      <td>4.58</td>\n",
       "      <td>10.5</td>\n",
       "      <td>6</td>\n",
       "      <td>2.84</td>\n",
       "      <td>3</td>\n",
       "      <td>no</td>\n",
       "    </tr>\n",
       "    <tr>\n",
       "      <td>28</td>\n",
       "      <td>AK</td>\n",
       "      <td>36</td>\n",
       "      <td>area_code_408</td>\n",
       "      <td>no</td>\n",
       "      <td>yes</td>\n",
       "      <td>30</td>\n",
       "      <td>146.3</td>\n",
       "      <td>128</td>\n",
       "      <td>24.87</td>\n",
       "      <td>162.5</td>\n",
       "      <td>80</td>\n",
       "      <td>13.81</td>\n",
       "      <td>129.3</td>\n",
       "      <td>109</td>\n",
       "      <td>5.82</td>\n",
       "      <td>14.5</td>\n",
       "      <td>6</td>\n",
       "      <td>3.92</td>\n",
       "      <td>0</td>\n",
       "      <td>no</td>\n",
       "    </tr>\n",
       "    <tr>\n",
       "      <td>113</td>\n",
       "      <td>AL</td>\n",
       "      <td>91</td>\n",
       "      <td>area_code_510</td>\n",
       "      <td>yes</td>\n",
       "      <td>no</td>\n",
       "      <td>0</td>\n",
       "      <td>129.9</td>\n",
       "      <td>112</td>\n",
       "      <td>22.08</td>\n",
       "      <td>173.3</td>\n",
       "      <td>83</td>\n",
       "      <td>14.73</td>\n",
       "      <td>247.2</td>\n",
       "      <td>130</td>\n",
       "      <td>11.12</td>\n",
       "      <td>11.2</td>\n",
       "      <td>3</td>\n",
       "      <td>3.02</td>\n",
       "      <td>3</td>\n",
       "      <td>no</td>\n",
       "    </tr>\n",
       "    <tr>\n",
       "      <td>93</td>\n",
       "      <td>AL</td>\n",
       "      <td>98</td>\n",
       "      <td>area_code_408</td>\n",
       "      <td>no</td>\n",
       "      <td>no</td>\n",
       "      <td>0</td>\n",
       "      <td>161.0</td>\n",
       "      <td>117</td>\n",
       "      <td>27.37</td>\n",
       "      <td>190.9</td>\n",
       "      <td>113</td>\n",
       "      <td>16.23</td>\n",
       "      <td>227.7</td>\n",
       "      <td>113</td>\n",
       "      <td>10.25</td>\n",
       "      <td>12.1</td>\n",
       "      <td>4</td>\n",
       "      <td>3.27</td>\n",
       "      <td>4</td>\n",
       "      <td>no</td>\n",
       "    </tr>\n",
       "    <tr>\n",
       "      <td>179</td>\n",
       "      <td>AL</td>\n",
       "      <td>106</td>\n",
       "      <td>area_code_415</td>\n",
       "      <td>no</td>\n",
       "      <td>no</td>\n",
       "      <td>0</td>\n",
       "      <td>223.0</td>\n",
       "      <td>121</td>\n",
       "      <td>37.91</td>\n",
       "      <td>110.1</td>\n",
       "      <td>98</td>\n",
       "      <td>9.36</td>\n",
       "      <td>188.7</td>\n",
       "      <td>107</td>\n",
       "      <td>8.49</td>\n",
       "      <td>7.1</td>\n",
       "      <td>12</td>\n",
       "      <td>1.92</td>\n",
       "      <td>0</td>\n",
       "      <td>no</td>\n",
       "    </tr>\n",
       "    <tr>\n",
       "      <td>77</td>\n",
       "      <td>AR</td>\n",
       "      <td>80</td>\n",
       "      <td>area_code_415</td>\n",
       "      <td>no</td>\n",
       "      <td>no</td>\n",
       "      <td>0</td>\n",
       "      <td>124.3</td>\n",
       "      <td>100</td>\n",
       "      <td>21.13</td>\n",
       "      <td>173.0</td>\n",
       "      <td>107</td>\n",
       "      <td>14.71</td>\n",
       "      <td>253.2</td>\n",
       "      <td>62</td>\n",
       "      <td>11.39</td>\n",
       "      <td>7.9</td>\n",
       "      <td>9</td>\n",
       "      <td>2.13</td>\n",
       "      <td>1</td>\n",
       "      <td>no</td>\n",
       "    </tr>\n",
       "    <tr>\n",
       "      <td>33</td>\n",
       "      <td>AR</td>\n",
       "      <td>34</td>\n",
       "      <td>area_code_510</td>\n",
       "      <td>no</td>\n",
       "      <td>no</td>\n",
       "      <td>0</td>\n",
       "      <td>124.8</td>\n",
       "      <td>82</td>\n",
       "      <td>21.22</td>\n",
       "      <td>282.2</td>\n",
       "      <td>98</td>\n",
       "      <td>23.99</td>\n",
       "      <td>311.5</td>\n",
       "      <td>78</td>\n",
       "      <td>14.02</td>\n",
       "      <td>10.0</td>\n",
       "      <td>4</td>\n",
       "      <td>2.70</td>\n",
       "      <td>2</td>\n",
       "      <td>no</td>\n",
       "    </tr>\n",
       "    <tr>\n",
       "      <td>112</td>\n",
       "      <td>AR</td>\n",
       "      <td>163</td>\n",
       "      <td>area_code_408</td>\n",
       "      <td>no</td>\n",
       "      <td>no</td>\n",
       "      <td>0</td>\n",
       "      <td>197.0</td>\n",
       "      <td>109</td>\n",
       "      <td>33.49</td>\n",
       "      <td>202.6</td>\n",
       "      <td>128</td>\n",
       "      <td>17.22</td>\n",
       "      <td>206.4</td>\n",
       "      <td>80</td>\n",
       "      <td>9.29</td>\n",
       "      <td>9.1</td>\n",
       "      <td>10</td>\n",
       "      <td>2.46</td>\n",
       "      <td>1</td>\n",
       "      <td>no</td>\n",
       "    </tr>\n",
       "    <tr>\n",
       "      <td>176</td>\n",
       "      <td>AZ</td>\n",
       "      <td>144</td>\n",
       "      <td>area_code_510</td>\n",
       "      <td>yes</td>\n",
       "      <td>no</td>\n",
       "      <td>0</td>\n",
       "      <td>203.5</td>\n",
       "      <td>100</td>\n",
       "      <td>34.60</td>\n",
       "      <td>247.6</td>\n",
       "      <td>103</td>\n",
       "      <td>21.05</td>\n",
       "      <td>194.3</td>\n",
       "      <td>94</td>\n",
       "      <td>8.74</td>\n",
       "      <td>11.9</td>\n",
       "      <td>11</td>\n",
       "      <td>3.21</td>\n",
       "      <td>0</td>\n",
       "      <td>no</td>\n",
       "    </tr>\n",
       "    <tr>\n",
       "      <td>18</td>\n",
       "      <td>AZ</td>\n",
       "      <td>130</td>\n",
       "      <td>area_code_415</td>\n",
       "      <td>no</td>\n",
       "      <td>no</td>\n",
       "      <td>0</td>\n",
       "      <td>183.0</td>\n",
       "      <td>112</td>\n",
       "      <td>31.11</td>\n",
       "      <td>72.9</td>\n",
       "      <td>99</td>\n",
       "      <td>6.20</td>\n",
       "      <td>181.8</td>\n",
       "      <td>78</td>\n",
       "      <td>8.18</td>\n",
       "      <td>9.5</td>\n",
       "      <td>19</td>\n",
       "      <td>2.57</td>\n",
       "      <td>0</td>\n",
       "      <td>no</td>\n",
       "    </tr>\n",
       "    <tr>\n",
       "      <td>26</td>\n",
       "      <td>AZ</td>\n",
       "      <td>12</td>\n",
       "      <td>area_code_408</td>\n",
       "      <td>no</td>\n",
       "      <td>no</td>\n",
       "      <td>0</td>\n",
       "      <td>249.6</td>\n",
       "      <td>118</td>\n",
       "      <td>42.43</td>\n",
       "      <td>252.4</td>\n",
       "      <td>119</td>\n",
       "      <td>21.45</td>\n",
       "      <td>280.2</td>\n",
       "      <td>90</td>\n",
       "      <td>12.61</td>\n",
       "      <td>11.8</td>\n",
       "      <td>3</td>\n",
       "      <td>3.19</td>\n",
       "      <td>1</td>\n",
       "      <td>yes</td>\n",
       "    </tr>\n",
       "    <tr>\n",
       "      <td>109</td>\n",
       "      <td>CA</td>\n",
       "      <td>75</td>\n",
       "      <td>area_code_408</td>\n",
       "      <td>no</td>\n",
       "      <td>no</td>\n",
       "      <td>0</td>\n",
       "      <td>166.3</td>\n",
       "      <td>125</td>\n",
       "      <td>28.27</td>\n",
       "      <td>158.2</td>\n",
       "      <td>86</td>\n",
       "      <td>13.45</td>\n",
       "      <td>256.7</td>\n",
       "      <td>80</td>\n",
       "      <td>11.55</td>\n",
       "      <td>6.1</td>\n",
       "      <td>5</td>\n",
       "      <td>1.65</td>\n",
       "      <td>1</td>\n",
       "      <td>no</td>\n",
       "    </tr>\n",
       "    <tr>\n",
       "      <td>49</td>\n",
       "      <td>CA</td>\n",
       "      <td>116</td>\n",
       "      <td>area_code_415</td>\n",
       "      <td>no</td>\n",
       "      <td>yes</td>\n",
       "      <td>34</td>\n",
       "      <td>268.6</td>\n",
       "      <td>83</td>\n",
       "      <td>45.66</td>\n",
       "      <td>178.2</td>\n",
       "      <td>142</td>\n",
       "      <td>15.15</td>\n",
       "      <td>166.3</td>\n",
       "      <td>106</td>\n",
       "      <td>7.48</td>\n",
       "      <td>11.6</td>\n",
       "      <td>3</td>\n",
       "      <td>3.13</td>\n",
       "      <td>2</td>\n",
       "      <td>no</td>\n",
       "    </tr>\n",
       "    <tr>\n",
       "      <td>543</td>\n",
       "      <td>CA</td>\n",
       "      <td>96</td>\n",
       "      <td>area_code_510</td>\n",
       "      <td>no</td>\n",
       "      <td>yes</td>\n",
       "      <td>31</td>\n",
       "      <td>183.4</td>\n",
       "      <td>126</td>\n",
       "      <td>31.18</td>\n",
       "      <td>195.5</td>\n",
       "      <td>106</td>\n",
       "      <td>16.62</td>\n",
       "      <td>180.1</td>\n",
       "      <td>93</td>\n",
       "      <td>8.10</td>\n",
       "      <td>10.5</td>\n",
       "      <td>5</td>\n",
       "      <td>2.84</td>\n",
       "      <td>1</td>\n",
       "      <td>no</td>\n",
       "    </tr>\n",
       "    <tr>\n",
       "      <td>45</td>\n",
       "      <td>CO</td>\n",
       "      <td>141</td>\n",
       "      <td>area_code_415</td>\n",
       "      <td>no</td>\n",
       "      <td>no</td>\n",
       "      <td>0</td>\n",
       "      <td>126.9</td>\n",
       "      <td>98</td>\n",
       "      <td>21.57</td>\n",
       "      <td>180.0</td>\n",
       "      <td>62</td>\n",
       "      <td>15.30</td>\n",
       "      <td>140.8</td>\n",
       "      <td>128</td>\n",
       "      <td>6.34</td>\n",
       "      <td>8.0</td>\n",
       "      <td>2</td>\n",
       "      <td>2.16</td>\n",
       "      <td>1</td>\n",
       "      <td>no</td>\n",
       "    </tr>\n",
       "    <tr>\n",
       "      <td>526</td>\n",
       "      <td>CO</td>\n",
       "      <td>120</td>\n",
       "      <td>area_code_510</td>\n",
       "      <td>no</td>\n",
       "      <td>yes</td>\n",
       "      <td>27</td>\n",
       "      <td>153.5</td>\n",
       "      <td>84</td>\n",
       "      <td>26.10</td>\n",
       "      <td>194.0</td>\n",
       "      <td>73</td>\n",
       "      <td>16.49</td>\n",
       "      <td>256.5</td>\n",
       "      <td>94</td>\n",
       "      <td>11.54</td>\n",
       "      <td>10.2</td>\n",
       "      <td>7</td>\n",
       "      <td>2.75</td>\n",
       "      <td>5</td>\n",
       "      <td>no</td>\n",
       "    </tr>\n",
       "    <tr>\n",
       "      <td>17</td>\n",
       "      <td>CO</td>\n",
       "      <td>77</td>\n",
       "      <td>area_code_408</td>\n",
       "      <td>no</td>\n",
       "      <td>no</td>\n",
       "      <td>0</td>\n",
       "      <td>62.4</td>\n",
       "      <td>89</td>\n",
       "      <td>10.61</td>\n",
       "      <td>169.9</td>\n",
       "      <td>121</td>\n",
       "      <td>14.44</td>\n",
       "      <td>209.6</td>\n",
       "      <td>64</td>\n",
       "      <td>9.43</td>\n",
       "      <td>5.7</td>\n",
       "      <td>6</td>\n",
       "      <td>1.54</td>\n",
       "      <td>5</td>\n",
       "      <td>yes</td>\n",
       "    </tr>\n",
       "    <tr>\n",
       "      <td>240</td>\n",
       "      <td>CT</td>\n",
       "      <td>199</td>\n",
       "      <td>area_code_415</td>\n",
       "      <td>no</td>\n",
       "      <td>yes</td>\n",
       "      <td>34</td>\n",
       "      <td>230.6</td>\n",
       "      <td>121</td>\n",
       "      <td>39.20</td>\n",
       "      <td>219.4</td>\n",
       "      <td>99</td>\n",
       "      <td>18.65</td>\n",
       "      <td>299.3</td>\n",
       "      <td>94</td>\n",
       "      <td>13.47</td>\n",
       "      <td>8.0</td>\n",
       "      <td>2</td>\n",
       "      <td>2.16</td>\n",
       "      <td>0</td>\n",
       "      <td>no</td>\n",
       "    </tr>\n",
       "    <tr>\n",
       "      <td>478</td>\n",
       "      <td>CT</td>\n",
       "      <td>72</td>\n",
       "      <td>area_code_408</td>\n",
       "      <td>no</td>\n",
       "      <td>yes</td>\n",
       "      <td>21</td>\n",
       "      <td>186.7</td>\n",
       "      <td>108</td>\n",
       "      <td>31.74</td>\n",
       "      <td>335.0</td>\n",
       "      <td>86</td>\n",
       "      <td>28.48</td>\n",
       "      <td>187.2</td>\n",
       "      <td>119</td>\n",
       "      <td>8.42</td>\n",
       "      <td>16.5</td>\n",
       "      <td>4</td>\n",
       "      <td>4.46</td>\n",
       "      <td>1</td>\n",
       "      <td>no</td>\n",
       "    </tr>\n",
       "  </tbody>\n",
       "</table>\n",
       "</div>"
      ],
      "text/plain": [
       "    state  account_length      area_code international_plan voice_mail_plan  \\\n",
       "114    AK             127  area_code_510                 no             yes   \n",
       "30     AK             136  area_code_415                yes             yes   \n",
       "28     AK              36  area_code_408                 no             yes   \n",
       "113    AL              91  area_code_510                yes              no   \n",
       "93     AL              98  area_code_408                 no              no   \n",
       "179    AL             106  area_code_415                 no              no   \n",
       "77     AR              80  area_code_415                 no              no   \n",
       "33     AR              34  area_code_510                 no              no   \n",
       "112    AR             163  area_code_408                 no              no   \n",
       "176    AZ             144  area_code_510                yes              no   \n",
       "18     AZ             130  area_code_415                 no              no   \n",
       "26     AZ              12  area_code_408                 no              no   \n",
       "109    CA              75  area_code_408                 no              no   \n",
       "49     CA             116  area_code_415                 no             yes   \n",
       "543    CA              96  area_code_510                 no             yes   \n",
       "45     CO             141  area_code_415                 no              no   \n",
       "526    CO             120  area_code_510                 no             yes   \n",
       "17     CO              77  area_code_408                 no              no   \n",
       "240    CT             199  area_code_415                 no             yes   \n",
       "478    CT              72  area_code_408                 no             yes   \n",
       "\n",
       "     number_vmail_messages  total_day_minutes  total_day_calls  \\\n",
       "114                     36              183.2              117   \n",
       "30                      33              203.9              106   \n",
       "28                      30              146.3              128   \n",
       "113                      0              129.9              112   \n",
       "93                       0              161.0              117   \n",
       "179                      0              223.0              121   \n",
       "77                       0              124.3              100   \n",
       "33                       0              124.8               82   \n",
       "112                      0              197.0              109   \n",
       "176                      0              203.5              100   \n",
       "18                       0              183.0              112   \n",
       "26                       0              249.6              118   \n",
       "109                      0              166.3              125   \n",
       "49                      34              268.6               83   \n",
       "543                     31              183.4              126   \n",
       "45                       0              126.9               98   \n",
       "526                     27              153.5               84   \n",
       "17                       0               62.4               89   \n",
       "240                     34              230.6              121   \n",
       "478                     21              186.7              108   \n",
       "\n",
       "     total_day_charge  total_eve_minutes  total_eve_calls  total_eve_charge  \\\n",
       "114             31.14              126.8               76             10.78   \n",
       "30              34.66              187.6               99             15.95   \n",
       "28              24.87              162.5               80             13.81   \n",
       "113             22.08              173.3               83             14.73   \n",
       "93              27.37              190.9              113             16.23   \n",
       "179             37.91              110.1               98              9.36   \n",
       "77              21.13              173.0              107             14.71   \n",
       "33              21.22              282.2               98             23.99   \n",
       "112             33.49              202.6              128             17.22   \n",
       "176             34.60              247.6              103             21.05   \n",
       "18              31.11               72.9               99              6.20   \n",
       "26              42.43              252.4              119             21.45   \n",
       "109             28.27              158.2               86             13.45   \n",
       "49              45.66              178.2              142             15.15   \n",
       "543             31.18              195.5              106             16.62   \n",
       "45              21.57              180.0               62             15.30   \n",
       "526             26.10              194.0               73             16.49   \n",
       "17              10.61              169.9              121             14.44   \n",
       "240             39.20              219.4               99             18.65   \n",
       "478             31.74              335.0               86             28.48   \n",
       "\n",
       "     total_night_minutes  total_night_calls  total_night_charge  \\\n",
       "114                263.3                 71               11.85   \n",
       "30                 101.7                107                4.58   \n",
       "28                 129.3                109                5.82   \n",
       "113                247.2                130               11.12   \n",
       "93                 227.7                113               10.25   \n",
       "179                188.7                107                8.49   \n",
       "77                 253.2                 62               11.39   \n",
       "33                 311.5                 78               14.02   \n",
       "112                206.4                 80                9.29   \n",
       "176                194.3                 94                8.74   \n",
       "18                 181.8                 78                8.18   \n",
       "26                 280.2                 90               12.61   \n",
       "109                256.7                 80               11.55   \n",
       "49                 166.3                106                7.48   \n",
       "543                180.1                 93                8.10   \n",
       "45                 140.8                128                6.34   \n",
       "526                256.5                 94               11.54   \n",
       "17                 209.6                 64                9.43   \n",
       "240                299.3                 94               13.47   \n",
       "478                187.2                119                8.42   \n",
       "\n",
       "     total_intl_minutes  total_intl_calls  total_intl_charge  \\\n",
       "114                11.2                 8               3.02   \n",
       "30                 10.5                 6               2.84   \n",
       "28                 14.5                 6               3.92   \n",
       "113                11.2                 3               3.02   \n",
       "93                 12.1                 4               3.27   \n",
       "179                 7.1                12               1.92   \n",
       "77                  7.9                 9               2.13   \n",
       "33                 10.0                 4               2.70   \n",
       "112                 9.1                10               2.46   \n",
       "176                11.9                11               3.21   \n",
       "18                  9.5                19               2.57   \n",
       "26                 11.8                 3               3.19   \n",
       "109                 6.1                 5               1.65   \n",
       "49                 11.6                 3               3.13   \n",
       "543                10.5                 5               2.84   \n",
       "45                  8.0                 2               2.16   \n",
       "526                10.2                 7               2.75   \n",
       "17                  5.7                 6               1.54   \n",
       "240                 8.0                 2               2.16   \n",
       "478                16.5                 4               4.46   \n",
       "\n",
       "     number_customer_service_calls churn  \n",
       "114                              1    no  \n",
       "30                               3    no  \n",
       "28                               0    no  \n",
       "113                              3    no  \n",
       "93                               4    no  \n",
       "179                              0    no  \n",
       "77                               1    no  \n",
       "33                               2    no  \n",
       "112                              1    no  \n",
       "176                              0    no  \n",
       "18                               0    no  \n",
       "26                               1   yes  \n",
       "109                              1    no  \n",
       "49                               2    no  \n",
       "543                              1    no  \n",
       "45                               1    no  \n",
       "526                              5    no  \n",
       "17                               5   yes  \n",
       "240                              0    no  \n",
       "478                              1    no  "
      ]
     },
     "execution_count": 10,
     "metadata": {},
     "output_type": "execute_result"
    }
   ],
   "source": [
    "df.drop_duplicates(subset=['state','area_code']).sort_values(by='state').head(20)\n"
   ]
  },
  {
   "cell_type": "code",
   "execution_count": 29,
   "metadata": {
    "scrolled": true
   },
   "outputs": [
    {
     "data": {
      "text/plain": [
       "array([[<AxesSubplot:title={'center':'total_day_minutes'}>,\n",
       "        <AxesSubplot:title={'center':'total_day_calls'}>,\n",
       "        <AxesSubplot:title={'center':'total_day_charge'}>],\n",
       "       [<AxesSubplot:title={'center':'total_eve_minutes'}>,\n",
       "        <AxesSubplot:title={'center':'total_eve_calls'}>,\n",
       "        <AxesSubplot:title={'center':'total_eve_charge'}>],\n",
       "       [<AxesSubplot:title={'center':'total_night_minutes'}>,\n",
       "        <AxesSubplot:title={'center':'total_night_calls'}>,\n",
       "        <AxesSubplot:title={'center':'total_night_charge'}>],\n",
       "       [<AxesSubplot:title={'center':'total_intl_minutes'}>,\n",
       "        <AxesSubplot:title={'center':'total_intl_calls'}>,\n",
       "        <AxesSubplot:title={'center':'total_intl_charge'}>]], dtype=object)"
      ]
     },
     "execution_count": 29,
     "metadata": {},
     "output_type": "execute_result"
    },
    {
     "data": {
      "image/png": "[encoded data removed]",
      "text/plain": [
       "<Figure size 1440x720 with 12 Axes>"
      ]
     },
     "metadata": {
      "needs_background": "light"
     },
     "output_type": "display_data"
    }
   ],
   "source": [
    "df[['total_day_minutes',\n",
    "       'total_day_calls', 'total_day_charge', 'total_eve_minutes',\n",
    "       'total_eve_calls', 'total_eve_charge', 'total_night_minutes',\n",
    "       'total_night_calls', 'total_night_charge', 'total_intl_minutes',\n",
    "       'total_intl_calls', 'total_intl_charge']].hist(figsize=(20,10),grid=False)"
   ]
  },
  {
   "cell_type": "code",
   "execution_count": 30,
   "metadata": {
    "scrolled": true
   },
   "outputs": [
    {
     "data": {
      "image/png": "[encoded data removed]",
      "text/plain": [
       "<Figure size 1440x180 with 3 Axes>"
      ]
     },
     "metadata": {
      "needs_background": "light"
     },
     "output_type": "display_data"
    }
   ],
   "source": [
    "fig, axes = plt.subplots(1, 3, figsize=(20,2.5))\n",
    "\n",
    "account_length = df.account_length.hist(ax=axes[0],grid=False).set_title('Account Length')\n",
    "number_vmail_messages = df.number_vmail_messages.hist(ax=axes[1],grid=False).set_title('Number of Vmail Messages')\n",
    "c = df.number_customer_service_calls.hist(ax=axes[2],grid=False).set_title('Number of Customer Service Calls')\n"
   ]
  },
  {
   "cell_type": "code",
   "execution_count": 54,
   "metadata": {},
   "outputs": [
    {
     "data": {
      "text/plain": [
       "no     4285\n",
       "yes     563\n",
       "Name: international_plan, dtype: int64"
      ]
     },
     "execution_count": 54,
     "metadata": {},
     "output_type": "execute_result"
    }
   ],
   "source": [
    "# now check the categorical variables...\n",
    "df.international_plan.value_counts()"
   ]
  },
  {
   "cell_type": "code",
   "execution_count": 6,
   "metadata": {},
   "outputs": [
    {
     "data": {
      "text/html": [
       "<div>\n",
       "<style scoped>\n",
       "    .dataframe tbody tr th:only-of-type {\n",
       "        vertical-align: middle;\n",
       "    }\n",
       "\n",
       "    .dataframe tbody tr th {\n",
       "        vertical-align: top;\n",
       "    }\n",
       "\n",
       "    .dataframe thead th {\n",
       "        text-align: right;\n",
       "    }\n",
       "</style>\n",
       "<table border=\"1\" class=\"dataframe\">\n",
       "  <thead>\n",
       "    <tr style=\"text-align: right;\">\n",
       "      <th></th>\n",
       "      <th>index</th>\n",
       "      <th>state</th>\n",
       "      <th>account_length</th>\n",
       "      <th>international_plan</th>\n",
       "      <th>voice_mail_plan</th>\n",
       "      <th>number_vmail_messages</th>\n",
       "      <th>total_day_minutes</th>\n",
       "      <th>total_day_calls</th>\n",
       "      <th>total_day_charge</th>\n",
       "      <th>total_eve_minutes</th>\n",
       "      <th>...</th>\n",
       "      <th>total_night_minutes</th>\n",
       "      <th>total_night_calls</th>\n",
       "      <th>total_night_charge</th>\n",
       "      <th>total_intl_minutes</th>\n",
       "      <th>total_intl_calls</th>\n",
       "      <th>total_intl_charge</th>\n",
       "      <th>number_customer_service_calls</th>\n",
       "      <th>churn</th>\n",
       "      <th>int_plan</th>\n",
       "      <th>v_mail_plan</th>\n",
       "    </tr>\n",
       "  </thead>\n",
       "  <tbody>\n",
       "    <tr>\n",
       "      <th>0</th>\n",
       "      <td>0</td>\n",
       "      <td>OH</td>\n",
       "      <td>107</td>\n",
       "      <td>no</td>\n",
       "      <td>yes</td>\n",
       "      <td>26</td>\n",
       "      <td>161.6</td>\n",
       "      <td>123</td>\n",
       "      <td>27.47</td>\n",
       "      <td>195.5</td>\n",
       "      <td>...</td>\n",
       "      <td>254.4</td>\n",
       "      <td>103</td>\n",
       "      <td>11.45</td>\n",
       "      <td>13.7</td>\n",
       "      <td>3</td>\n",
       "      <td>3.70</td>\n",
       "      <td>1</td>\n",
       "      <td>no</td>\n",
       "      <td>False</td>\n",
       "      <td>True</td>\n",
       "    </tr>\n",
       "    <tr>\n",
       "      <th>1</th>\n",
       "      <td>1</td>\n",
       "      <td>NJ</td>\n",
       "      <td>137</td>\n",
       "      <td>no</td>\n",
       "      <td>no</td>\n",
       "      <td>0</td>\n",
       "      <td>243.4</td>\n",
       "      <td>114</td>\n",
       "      <td>41.38</td>\n",
       "      <td>121.2</td>\n",
       "      <td>...</td>\n",
       "      <td>162.6</td>\n",
       "      <td>104</td>\n",
       "      <td>7.32</td>\n",
       "      <td>12.2</td>\n",
       "      <td>5</td>\n",
       "      <td>3.29</td>\n",
       "      <td>0</td>\n",
       "      <td>no</td>\n",
       "      <td>False</td>\n",
       "      <td>False</td>\n",
       "    </tr>\n",
       "    <tr>\n",
       "      <th>2</th>\n",
       "      <td>2</td>\n",
       "      <td>OH</td>\n",
       "      <td>84</td>\n",
       "      <td>yes</td>\n",
       "      <td>no</td>\n",
       "      <td>0</td>\n",
       "      <td>299.4</td>\n",
       "      <td>71</td>\n",
       "      <td>50.90</td>\n",
       "      <td>61.9</td>\n",
       "      <td>...</td>\n",
       "      <td>196.9</td>\n",
       "      <td>89</td>\n",
       "      <td>8.86</td>\n",
       "      <td>6.6</td>\n",
       "      <td>7</td>\n",
       "      <td>1.78</td>\n",
       "      <td>2</td>\n",
       "      <td>no</td>\n",
       "      <td>True</td>\n",
       "      <td>False</td>\n",
       "    </tr>\n",
       "    <tr>\n",
       "      <th>3</th>\n",
       "      <td>3</td>\n",
       "      <td>OK</td>\n",
       "      <td>75</td>\n",
       "      <td>yes</td>\n",
       "      <td>no</td>\n",
       "      <td>0</td>\n",
       "      <td>166.7</td>\n",
       "      <td>113</td>\n",
       "      <td>28.34</td>\n",
       "      <td>148.3</td>\n",
       "      <td>...</td>\n",
       "      <td>186.9</td>\n",
       "      <td>121</td>\n",
       "      <td>8.41</td>\n",
       "      <td>10.1</td>\n",
       "      <td>3</td>\n",
       "      <td>2.73</td>\n",
       "      <td>3</td>\n",
       "      <td>no</td>\n",
       "      <td>True</td>\n",
       "      <td>False</td>\n",
       "    </tr>\n",
       "    <tr>\n",
       "      <th>4</th>\n",
       "      <td>4</td>\n",
       "      <td>MA</td>\n",
       "      <td>121</td>\n",
       "      <td>no</td>\n",
       "      <td>yes</td>\n",
       "      <td>24</td>\n",
       "      <td>218.2</td>\n",
       "      <td>88</td>\n",
       "      <td>37.09</td>\n",
       "      <td>348.5</td>\n",
       "      <td>...</td>\n",
       "      <td>212.6</td>\n",
       "      <td>118</td>\n",
       "      <td>9.57</td>\n",
       "      <td>7.5</td>\n",
       "      <td>7</td>\n",
       "      <td>2.03</td>\n",
       "      <td>3</td>\n",
       "      <td>no</td>\n",
       "      <td>False</td>\n",
       "      <td>True</td>\n",
       "    </tr>\n",
       "  </tbody>\n",
       "</table>\n",
       "<p>5 rows × 22 columns</p>\n",
       "</div>"
      ],
      "text/plain": [
       "   index state  account_length international_plan voice_mail_plan  \\\n",
       "0      0    OH             107                 no             yes   \n",
       "1      1    NJ             137                 no              no   \n",
       "2      2    OH              84                yes              no   \n",
       "3      3    OK              75                yes              no   \n",
       "4      4    MA             121                 no             yes   \n",
       "\n",
       "   number_vmail_messages  total_day_minutes  total_day_calls  \\\n",
       "0                     26              161.6              123   \n",
       "1                      0              243.4              114   \n",
       "2                      0              299.4               71   \n",
       "3                      0              166.7              113   \n",
       "4                     24              218.2               88   \n",
       "\n",
       "   total_day_charge  total_eve_minutes  ...  total_night_minutes  \\\n",
       "0             27.47              195.5  ...                254.4   \n",
       "1             41.38              121.2  ...                162.6   \n",
       "2             50.90               61.9  ...                196.9   \n",
       "3             28.34              148.3  ...                186.9   \n",
       "4             37.09              348.5  ...                212.6   \n",
       "\n",
       "   total_night_calls  total_night_charge  total_intl_minutes  \\\n",
       "0                103               11.45                13.7   \n",
       "1                104                7.32                12.2   \n",
       "2                 89                8.86                 6.6   \n",
       "3                121                8.41                10.1   \n",
       "4                118                9.57                 7.5   \n",
       "\n",
       "   total_intl_calls  total_intl_charge  number_customer_service_calls  churn  \\\n",
       "0                 3               3.70                              1     no   \n",
       "1                 5               3.29                              0     no   \n",
       "2                 7               1.78                              2     no   \n",
       "3                 3               2.73                              3     no   \n",
       "4                 7               2.03                              3     no   \n",
       "\n",
       "   int_plan v_mail_plan  \n",
       "0     False        True  \n",
       "1     False       False  \n",
       "2      True       False  \n",
       "3      True       False  \n",
       "4     False        True  \n",
       "\n",
       "[5 rows x 22 columns]"
      ]
     },
     "execution_count": 6,
     "metadata": {},
     "output_type": "execute_result"
    }
   ],
   "source": [
    "# map categorical variables to ints\n",
    "df['int_plan'] = [s=='yes' for s in df['international_plan']]\n",
    "df['v_mail_plan'] = [s=='yes' for s in df['voice_mail_plan']]\n",
    "df.head()"
   ]
  },
  {
   "cell_type": "code",
   "execution_count": 7,
   "metadata": {},
   "outputs": [],
   "source": [
    "df['churn'] = [s=='yes' for s in df['churn']]\n"
   ]
  },
  {
   "cell_type": "code",
   "execution_count": 71,
   "metadata": {},
   "outputs": [
    {
     "data": {
      "text/plain": [
       "Index(['index', 'account_length', 'international_plan', 'voice_mail_plan',\n",
       "       'total_day_minutes', 'total_day_calls', 'total_eve_minutes',\n",
       "       'total_eve_calls', 'total_night_minutes', 'total_night_calls',\n",
       "       'total_intl_minutes', 'total_intl_calls',\n",
       "       'number_customer_service_calls', 'churn', 'int_plan', 'v_mail_plan'],\n",
       "      dtype='object')"
      ]
     },
     "execution_count": 71,
     "metadata": {},
     "output_type": "execute_result"
    }
   ],
   "source": [
    "df.columns"
   ]
  },
  {
   "cell_type": "markdown",
   "metadata": {
    "collapsed": true
   },
   "source": [
    "* voice_mail_plan:1112\n",
    "* international_plan:396\n",
    "\n",
    "#### Correlation"
   ]
  },
  {
   "cell_type": "code",
   "execution_count": 42,
   "metadata": {
    "collapsed": true
   },
   "outputs": [
    {
     "data": {
      "text/html": [
       "<div>\n",
       "<style scoped>\n",
       "    .dataframe tbody tr th:only-of-type {\n",
       "        vertical-align: middle;\n",
       "    }\n",
       "\n",
       "    .dataframe tbody tr th {\n",
       "        vertical-align: top;\n",
       "    }\n",
       "\n",
       "    .dataframe thead th {\n",
       "        text-align: right;\n",
       "    }\n",
       "</style>\n",
       "<table border=\"1\" class=\"dataframe\">\n",
       "  <thead>\n",
       "    <tr style=\"text-align: right;\">\n",
       "      <th></th>\n",
       "      <th>account_length</th>\n",
       "      <th>number_vmail_messages</th>\n",
       "      <th>total_day_minutes</th>\n",
       "      <th>total_day_calls</th>\n",
       "      <th>total_day_charge</th>\n",
       "      <th>total_eve_minutes</th>\n",
       "      <th>total_eve_calls</th>\n",
       "      <th>total_eve_charge</th>\n",
       "      <th>total_night_minutes</th>\n",
       "      <th>total_night_calls</th>\n",
       "      <th>total_night_charge</th>\n",
       "      <th>total_intl_minutes</th>\n",
       "      <th>total_intl_calls</th>\n",
       "      <th>total_intl_charge</th>\n",
       "      <th>number_customer_service_calls</th>\n",
       "    </tr>\n",
       "  </thead>\n",
       "  <tbody>\n",
       "    <tr>\n",
       "      <td>account_length</td>\n",
       "      <td>1.000000</td>\n",
       "      <td>-0.006626</td>\n",
       "      <td>-0.001612</td>\n",
       "      <td>0.023002</td>\n",
       "      <td>-0.001613</td>\n",
       "      <td>-0.010326</td>\n",
       "      <td>0.005535</td>\n",
       "      <td>-0.010322</td>\n",
       "      <td>-0.009916</td>\n",
       "      <td>-0.001846</td>\n",
       "      <td>-0.009942</td>\n",
       "      <td>0.004539</td>\n",
       "      <td>0.013690</td>\n",
       "      <td>0.004494</td>\n",
       "      <td>0.001002</td>\n",
       "    </tr>\n",
       "    <tr>\n",
       "      <td>number_vmail_messages</td>\n",
       "      <td>-0.006626</td>\n",
       "      <td>1.000000</td>\n",
       "      <td>0.002000</td>\n",
       "      <td>-0.006920</td>\n",
       "      <td>0.001994</td>\n",
       "      <td>0.010725</td>\n",
       "      <td>0.003593</td>\n",
       "      <td>0.010736</td>\n",
       "      <td>0.018308</td>\n",
       "      <td>0.001977</td>\n",
       "      <td>0.018300</td>\n",
       "      <td>0.005220</td>\n",
       "      <td>0.006585</td>\n",
       "      <td>0.005249</td>\n",
       "      <td>-0.015303</td>\n",
       "    </tr>\n",
       "    <tr>\n",
       "      <td>total_day_minutes</td>\n",
       "      <td>-0.001612</td>\n",
       "      <td>0.002000</td>\n",
       "      <td>1.000000</td>\n",
       "      <td>0.000747</td>\n",
       "      <td>1.000000</td>\n",
       "      <td>-0.013248</td>\n",
       "      <td>0.005986</td>\n",
       "      <td>-0.013258</td>\n",
       "      <td>0.010049</td>\n",
       "      <td>-0.004812</td>\n",
       "      <td>0.010036</td>\n",
       "      <td>-0.021369</td>\n",
       "      <td>0.003859</td>\n",
       "      <td>-0.021291</td>\n",
       "      <td>-0.002925</td>\n",
       "    </tr>\n",
       "    <tr>\n",
       "      <td>total_day_calls</td>\n",
       "      <td>0.023002</td>\n",
       "      <td>-0.006920</td>\n",
       "      <td>0.000747</td>\n",
       "      <td>1.000000</td>\n",
       "      <td>0.000751</td>\n",
       "      <td>0.008661</td>\n",
       "      <td>0.003739</td>\n",
       "      <td>0.008663</td>\n",
       "      <td>0.002206</td>\n",
       "      <td>-0.004815</td>\n",
       "      <td>0.002200</td>\n",
       "      <td>0.008834</td>\n",
       "      <td>0.009377</td>\n",
       "      <td>0.008909</td>\n",
       "      <td>-0.015845</td>\n",
       "    </tr>\n",
       "    <tr>\n",
       "      <td>total_day_charge</td>\n",
       "      <td>-0.001613</td>\n",
       "      <td>0.001994</td>\n",
       "      <td>1.000000</td>\n",
       "      <td>0.000751</td>\n",
       "      <td>1.000000</td>\n",
       "      <td>-0.013247</td>\n",
       "      <td>0.005985</td>\n",
       "      <td>-0.013257</td>\n",
       "      <td>0.010053</td>\n",
       "      <td>-0.004816</td>\n",
       "      <td>0.010040</td>\n",
       "      <td>-0.021374</td>\n",
       "      <td>0.003853</td>\n",
       "      <td>-0.021296</td>\n",
       "      <td>-0.002932</td>\n",
       "    </tr>\n",
       "    <tr>\n",
       "      <td>total_eve_minutes</td>\n",
       "      <td>-0.010326</td>\n",
       "      <td>0.010725</td>\n",
       "      <td>-0.013248</td>\n",
       "      <td>0.008661</td>\n",
       "      <td>-0.013247</td>\n",
       "      <td>1.000000</td>\n",
       "      <td>0.003101</td>\n",
       "      <td>1.000000</td>\n",
       "      <td>-0.014018</td>\n",
       "      <td>0.011973</td>\n",
       "      <td>-0.014031</td>\n",
       "      <td>-0.003509</td>\n",
       "      <td>0.012239</td>\n",
       "      <td>-0.003460</td>\n",
       "      <td>-0.010063</td>\n",
       "    </tr>\n",
       "    <tr>\n",
       "      <td>total_eve_calls</td>\n",
       "      <td>0.005535</td>\n",
       "      <td>0.003593</td>\n",
       "      <td>0.005986</td>\n",
       "      <td>0.003739</td>\n",
       "      <td>0.005985</td>\n",
       "      <td>0.003101</td>\n",
       "      <td>1.000000</td>\n",
       "      <td>0.003120</td>\n",
       "      <td>0.008425</td>\n",
       "      <td>-0.011929</td>\n",
       "      <td>0.008441</td>\n",
       "      <td>-0.013096</td>\n",
       "      <td>0.004949</td>\n",
       "      <td>-0.013145</td>\n",
       "      <td>0.006956</td>\n",
       "    </tr>\n",
       "    <tr>\n",
       "      <td>total_eve_charge</td>\n",
       "      <td>-0.010322</td>\n",
       "      <td>0.010736</td>\n",
       "      <td>-0.013258</td>\n",
       "      <td>0.008663</td>\n",
       "      <td>-0.013257</td>\n",
       "      <td>1.000000</td>\n",
       "      <td>0.003120</td>\n",
       "      <td>1.000000</td>\n",
       "      <td>-0.014022</td>\n",
       "      <td>0.011971</td>\n",
       "      <td>-0.014035</td>\n",
       "      <td>-0.003512</td>\n",
       "      <td>0.012239</td>\n",
       "      <td>-0.003463</td>\n",
       "      <td>-0.010071</td>\n",
       "    </tr>\n",
       "    <tr>\n",
       "      <td>total_night_minutes</td>\n",
       "      <td>-0.009916</td>\n",
       "      <td>0.018308</td>\n",
       "      <td>0.010049</td>\n",
       "      <td>0.002206</td>\n",
       "      <td>0.010053</td>\n",
       "      <td>-0.014018</td>\n",
       "      <td>0.008425</td>\n",
       "      <td>-0.014022</td>\n",
       "      <td>1.000000</td>\n",
       "      <td>0.023815</td>\n",
       "      <td>0.999999</td>\n",
       "      <td>-0.000113</td>\n",
       "      <td>-0.024280</td>\n",
       "      <td>-0.000047</td>\n",
       "      <td>-0.013771</td>\n",
       "    </tr>\n",
       "    <tr>\n",
       "      <td>total_night_calls</td>\n",
       "      <td>-0.001846</td>\n",
       "      <td>0.001977</td>\n",
       "      <td>-0.004812</td>\n",
       "      <td>-0.004815</td>\n",
       "      <td>-0.004816</td>\n",
       "      <td>0.011973</td>\n",
       "      <td>-0.011929</td>\n",
       "      <td>0.011971</td>\n",
       "      <td>0.023815</td>\n",
       "      <td>1.000000</td>\n",
       "      <td>0.023798</td>\n",
       "      <td>0.001093</td>\n",
       "      <td>0.003851</td>\n",
       "      <td>0.001054</td>\n",
       "      <td>-0.008893</td>\n",
       "    </tr>\n",
       "    <tr>\n",
       "      <td>total_night_charge</td>\n",
       "      <td>-0.009942</td>\n",
       "      <td>0.018300</td>\n",
       "      <td>0.010036</td>\n",
       "      <td>0.002200</td>\n",
       "      <td>0.010040</td>\n",
       "      <td>-0.014031</td>\n",
       "      <td>0.008441</td>\n",
       "      <td>-0.014035</td>\n",
       "      <td>0.999999</td>\n",
       "      <td>0.023798</td>\n",
       "      <td>1.000000</td>\n",
       "      <td>-0.000103</td>\n",
       "      <td>-0.024260</td>\n",
       "      <td>-0.000037</td>\n",
       "      <td>-0.013761</td>\n",
       "    </tr>\n",
       "    <tr>\n",
       "      <td>total_intl_minutes</td>\n",
       "      <td>0.004539</td>\n",
       "      <td>0.005220</td>\n",
       "      <td>-0.021369</td>\n",
       "      <td>0.008834</td>\n",
       "      <td>-0.021374</td>\n",
       "      <td>-0.003509</td>\n",
       "      <td>-0.013096</td>\n",
       "      <td>-0.003512</td>\n",
       "      <td>-0.000113</td>\n",
       "      <td>0.001093</td>\n",
       "      <td>-0.000103</td>\n",
       "      <td>1.000000</td>\n",
       "      <td>0.019328</td>\n",
       "      <td>0.999993</td>\n",
       "      <td>-0.013994</td>\n",
       "    </tr>\n",
       "    <tr>\n",
       "      <td>total_intl_calls</td>\n",
       "      <td>0.013690</td>\n",
       "      <td>0.006585</td>\n",
       "      <td>0.003859</td>\n",
       "      <td>0.009377</td>\n",
       "      <td>0.003853</td>\n",
       "      <td>0.012239</td>\n",
       "      <td>0.004949</td>\n",
       "      <td>0.012239</td>\n",
       "      <td>-0.024280</td>\n",
       "      <td>0.003851</td>\n",
       "      <td>-0.024260</td>\n",
       "      <td>0.019328</td>\n",
       "      <td>1.000000</td>\n",
       "      <td>0.019414</td>\n",
       "      <td>-0.015302</td>\n",
       "    </tr>\n",
       "    <tr>\n",
       "      <td>total_intl_charge</td>\n",
       "      <td>0.004494</td>\n",
       "      <td>0.005249</td>\n",
       "      <td>-0.021291</td>\n",
       "      <td>0.008909</td>\n",
       "      <td>-0.021296</td>\n",
       "      <td>-0.003460</td>\n",
       "      <td>-0.013145</td>\n",
       "      <td>-0.003463</td>\n",
       "      <td>-0.000047</td>\n",
       "      <td>0.001054</td>\n",
       "      <td>-0.000037</td>\n",
       "      <td>0.999993</td>\n",
       "      <td>0.019414</td>\n",
       "      <td>1.000000</td>\n",
       "      <td>-0.014051</td>\n",
       "    </tr>\n",
       "    <tr>\n",
       "      <td>number_customer_service_calls</td>\n",
       "      <td>0.001002</td>\n",
       "      <td>-0.015303</td>\n",
       "      <td>-0.002925</td>\n",
       "      <td>-0.015845</td>\n",
       "      <td>-0.002932</td>\n",
       "      <td>-0.010063</td>\n",
       "      <td>0.006956</td>\n",
       "      <td>-0.010071</td>\n",
       "      <td>-0.013771</td>\n",
       "      <td>-0.008893</td>\n",
       "      <td>-0.013761</td>\n",
       "      <td>-0.013994</td>\n",
       "      <td>-0.015302</td>\n",
       "      <td>-0.014051</td>\n",
       "      <td>1.000000</td>\n",
       "    </tr>\n",
       "  </tbody>\n",
       "</table>\n",
       "</div>"
      ],
      "text/plain": [
       "                               account_length  number_vmail_messages  \\\n",
       "account_length                       1.000000              -0.006626   \n",
       "number_vmail_messages               -0.006626               1.000000   \n",
       "total_day_minutes                   -0.001612               0.002000   \n",
       "total_day_calls                      0.023002              -0.006920   \n",
       "total_day_charge                    -0.001613               0.001994   \n",
       "total_eve_minutes                   -0.010326               0.010725   \n",
       "total_eve_calls                      0.005535               0.003593   \n",
       "total_eve_charge                    -0.010322               0.010736   \n",
       "total_night_minutes                 -0.009916               0.018308   \n",
       "total_night_calls                   -0.001846               0.001977   \n",
       "total_night_charge                  -0.009942               0.018300   \n",
       "total_intl_minutes                   0.004539               0.005220   \n",
       "total_intl_calls                     0.013690               0.006585   \n",
       "total_intl_charge                    0.004494               0.005249   \n",
       "number_customer_service_calls        0.001002              -0.015303   \n",
       "\n",
       "                               total_day_minutes  total_day_calls  \\\n",
       "account_length                         -0.001612         0.023002   \n",
       "number_vmail_messages                   0.002000        -0.006920   \n",
       "total_day_minutes                       1.000000         0.000747   \n",
       "total_day_calls                         0.000747         1.000000   \n",
       "total_day_charge                        1.000000         0.000751   \n",
       "total_eve_minutes                      -0.013248         0.008661   \n",
       "total_eve_calls                         0.005986         0.003739   \n",
       "total_eve_charge                       -0.013258         0.008663   \n",
       "total_night_minutes                     0.010049         0.002206   \n",
       "total_night_calls                      -0.004812        -0.004815   \n",
       "total_night_charge                      0.010036         0.002200   \n",
       "total_intl_minutes                     -0.021369         0.008834   \n",
       "total_intl_calls                        0.003859         0.009377   \n",
       "total_intl_charge                      -0.021291         0.008909   \n",
       "number_customer_service_calls          -0.002925        -0.015845   \n",
       "\n",
       "                               total_day_charge  total_eve_minutes  \\\n",
       "account_length                        -0.001613          -0.010326   \n",
       "number_vmail_messages                  0.001994           0.010725   \n",
       "total_day_minutes                      1.000000          -0.013248   \n",
       "total_day_calls                        0.000751           0.008661   \n",
       "total_day_charge                       1.000000          -0.013247   \n",
       "total_eve_minutes                     -0.013247           1.000000   \n",
       "total_eve_calls                        0.005985           0.003101   \n",
       "total_eve_charge                      -0.013257           1.000000   \n",
       "total_night_minutes                    0.010053          -0.014018   \n",
       "total_night_calls                     -0.004816           0.011973   \n",
       "total_night_charge                     0.010040          -0.014031   \n",
       "total_intl_minutes                    -0.021374          -0.003509   \n",
       "total_intl_calls                       0.003853           0.012239   \n",
       "total_intl_charge                     -0.021296          -0.003460   \n",
       "number_customer_service_calls         -0.002932          -0.010063   \n",
       "\n",
       "                               total_eve_calls  total_eve_charge  \\\n",
       "account_length                        0.005535         -0.010322   \n",
       "number_vmail_messages                 0.003593          0.010736   \n",
       "total_day_minutes                     0.005986         -0.013258   \n",
       "total_day_calls                       0.003739          0.008663   \n",
       "total_day_charge                      0.005985         -0.013257   \n",
       "total_eve_minutes                     0.003101          1.000000   \n",
       "total_eve_calls                       1.000000          0.003120   \n",
       "total_eve_charge                      0.003120          1.000000   \n",
       "total_night_minutes                   0.008425         -0.014022   \n",
       "total_night_calls                    -0.011929          0.011971   \n",
       "total_night_charge                    0.008441         -0.014035   \n",
       "total_intl_minutes                   -0.013096         -0.003512   \n",
       "total_intl_calls                      0.004949          0.012239   \n",
       "total_intl_charge                    -0.013145         -0.003463   \n",
       "number_customer_service_calls         0.006956         -0.010071   \n",
       "\n",
       "                               total_night_minutes  total_night_calls  \\\n",
       "account_length                           -0.009916          -0.001846   \n",
       "number_vmail_messages                     0.018308           0.001977   \n",
       "total_day_minutes                         0.010049          -0.004812   \n",
       "total_day_calls                           0.002206          -0.004815   \n",
       "total_day_charge                          0.010053          -0.004816   \n",
       "total_eve_minutes                        -0.014018           0.011973   \n",
       "total_eve_calls                           0.008425          -0.011929   \n",
       "total_eve_charge                         -0.014022           0.011971   \n",
       "total_night_minutes                       1.000000           0.023815   \n",
       "total_night_calls                         0.023815           1.000000   \n",
       "total_night_charge                        0.999999           0.023798   \n",
       "total_intl_minutes                       -0.000113           0.001093   \n",
       "total_intl_calls                         -0.024280           0.003851   \n",
       "total_intl_charge                        -0.000047           0.001054   \n",
       "number_customer_service_calls            -0.013771          -0.008893   \n",
       "\n",
       "                               total_night_charge  total_intl_minutes  \\\n",
       "account_length                          -0.009942            0.004539   \n",
       "number_vmail_messages                    0.018300            0.005220   \n",
       "total_day_minutes                        0.010036           -0.021369   \n",
       "total_day_calls                          0.002200            0.008834   \n",
       "total_day_charge                         0.010040           -0.021374   \n",
       "total_eve_minutes                       -0.014031           -0.003509   \n",
       "total_eve_calls                          0.008441           -0.013096   \n",
       "total_eve_charge                        -0.014035           -0.003512   \n",
       "total_night_minutes                      0.999999           -0.000113   \n",
       "total_night_calls                        0.023798            0.001093   \n",
       "total_night_charge                       1.000000           -0.000103   \n",
       "total_intl_minutes                      -0.000103            1.000000   \n",
       "total_intl_calls                        -0.024260            0.019328   \n",
       "total_intl_charge                       -0.000037            0.999993   \n",
       "number_customer_service_calls           -0.013761           -0.013994   \n",
       "\n",
       "                               total_intl_calls  total_intl_charge  \\\n",
       "account_length                         0.013690           0.004494   \n",
       "number_vmail_messages                  0.006585           0.005249   \n",
       "total_day_minutes                      0.003859          -0.021291   \n",
       "total_day_calls                        0.009377           0.008909   \n",
       "total_day_charge                       0.003853          -0.021296   \n",
       "total_eve_minutes                      0.012239          -0.003460   \n",
       "total_eve_calls                        0.004949          -0.013145   \n",
       "total_eve_charge                       0.012239          -0.003463   \n",
       "total_night_minutes                   -0.024280          -0.000047   \n",
       "total_night_calls                      0.003851           0.001054   \n",
       "total_night_charge                    -0.024260          -0.000037   \n",
       "total_intl_minutes                     0.019328           0.999993   \n",
       "total_intl_calls                       1.000000           0.019414   \n",
       "total_intl_charge                      0.019414           1.000000   \n",
       "number_customer_service_calls         -0.015302          -0.014051   \n",
       "\n",
       "                               number_customer_service_calls  \n",
       "account_length                                      0.001002  \n",
       "number_vmail_messages                              -0.015303  \n",
       "total_day_minutes                                  -0.002925  \n",
       "total_day_calls                                    -0.015845  \n",
       "total_day_charge                                   -0.002932  \n",
       "total_eve_minutes                                  -0.010063  \n",
       "total_eve_calls                                     0.006956  \n",
       "total_eve_charge                                   -0.010071  \n",
       "total_night_minutes                                -0.013771  \n",
       "total_night_calls                                  -0.008893  \n",
       "total_night_charge                                 -0.013761  \n",
       "total_intl_minutes                                 -0.013994  \n",
       "total_intl_calls                                   -0.015302  \n",
       "total_intl_charge                                  -0.014051  \n",
       "number_customer_service_calls                       1.000000  "
      ]
     },
     "execution_count": 42,
     "metadata": {},
     "output_type": "execute_result"
    }
   ],
   "source": [
    "df.corr()"
   ]
  },
  {
   "cell_type": "code",
   "execution_count": 61,
   "metadata": {},
   "outputs": [],
   "source": [
    "df.reset_index(inplace=True)"
   ]
  },
  {
   "cell_type": "code",
   "execution_count": 62,
   "metadata": {
    "collapsed": true
   },
   "outputs": [
    {
     "data": {
      "image/png": "[encoded data removed]",
      "text/plain": [
       "<Figure size 900x180 with 6 Axes>"
      ]
     },
     "metadata": {
      "needs_background": "light"
     },
     "output_type": "display_data"
    },
    {
     "data": {
      "image/png": "[encoded data removed]",
      "text/plain": [
       "<Figure size 900x180 with 5 Axes>"
      ]
     },
     "metadata": {
      "needs_background": "light"
     },
     "output_type": "display_data"
    },
    {
     "data": {
      "image/png": "[encoded data removed]",
      "text/plain": [
       "<Figure size 900x180 with 5 Axes>"
      ]
     },
     "metadata": {
      "needs_background": "light"
     },
     "output_type": "display_data"
    },
    {
     "data": {
      "image/png": "[encoded data removed]",
      "text/plain": [
       "<Figure size 900x180 with 5 Axes>"
      ]
     },
     "metadata": {
      "needs_background": "light"
     },
     "output_type": "display_data"
    },
    {
     "data": {
      "image/png": "[encoded data removed]",
      "text/plain": [
       "<Figure size 180x180 with 1 Axes>"
      ]
     },
     "metadata": {
      "needs_background": "light"
     },
     "output_type": "display_data"
    }
   ],
   "source": [
    "import seaborn as sns\n",
    "for i in range(0, len(df.columns), 5):\n",
    "    sns.pairplot(data=df,\n",
    "                x_vars=df.columns[i:i+5],\n",
    "                y_vars=['account_length'])"
   ]
  },
  {
   "cell_type": "code",
   "execution_count": 65,
   "metadata": {
    "scrolled": true
   },
   "outputs": [
    {
     "data": {
      "image/png": "[encoded data removed]",
      "text/plain": [
       "<Figure size 864x720 with 2 Axes>"
      ]
     },
     "metadata": {
      "needs_background": "light"
     },
     "output_type": "display_data"
    }
   ],
   "source": [
    "corr = df.corr() \n",
    "plt.figure(figsize=(12, 10))\n",
    "\n",
    "sns.heatmap(corr[(corr >= 0.5) | (corr <= -0.4)], \n",
    "            cmap='viridis', vmax=1.0, vmin=-1.0, linewidths=0.1,\n",
    "            annot=True, annot_kws={\"size\": 8}, square=True);"
   ]
  },
  {
   "cell_type": "markdown",
   "metadata": {},
   "source": [
    "minutes and charge variables have a correlation of 1. So I drop minutes columns and number_vmail_messages column."
   ]
  },
  {
   "cell_type": "code",
   "execution_count": 51,
   "metadata": {},
   "outputs": [
    {
     "data": {
      "text/plain": [
       "(1455, 12)"
      ]
     },
     "execution_count": 51,
     "metadata": {},
     "output_type": "execute_result"
    }
   ],
   "source": [
    "X_test.shape"
   ]
  },
  {
   "cell_type": "code",
   "execution_count": 8,
   "metadata": {},
   "outputs": [
    {
     "data": {
      "text/plain": [
       "Index(['index', 'state', 'account_length', 'international_plan',\n",
       "       'voice_mail_plan', 'total_day_minutes', 'total_day_calls',\n",
       "       'total_eve_minutes', 'total_eve_calls', 'total_night_minutes',\n",
       "       'total_night_calls', 'total_intl_minutes', 'total_intl_calls',\n",
       "       'number_customer_service_calls', 'churn', 'int_plan', 'v_mail_plan'],\n",
       "      dtype='object')"
      ]
     },
     "execution_count": 8,
     "metadata": {},
     "output_type": "execute_result"
    }
   ],
   "source": [
    "# exclude highly correlated predictors...\n",
    "df.drop(labels=['total_day_charge', 'total_eve_charge', 'total_night_charge', 'total_intl_charge','number_vmail_messages'],\n",
    "        inplace=True, axis=1)\n",
    "df.columns"
   ]
  },
  {
   "cell_type": "code",
   "execution_count": 68,
   "metadata": {
    "scrolled": false
   },
   "outputs": [
    {
     "data": {
      "image/png": "[encoded data removed]",
      "text/plain": [
       "<Figure size 864x720 with 2 Axes>"
      ]
     },
     "metadata": {
      "needs_background": "light"
     },
     "output_type": "display_data"
    }
   ],
   "source": [
    "# Try again see if it works\n",
    "corr = df.corr() \n",
    "plt.figure(figsize=(12, 10))\n",
    "\n",
    "sns.heatmap(corr[(corr >= 0.5) | (corr <= -0.4)], \n",
    "            cmap='viridis', vmax=1.0, vmin=-1.0, linewidths=0.1,\n",
    "            annot=True, annot_kws={\"size\": 8}, square=True);"
   ]
  },
  {
   "cell_type": "markdown",
   "metadata": {},
   "source": [
    "## 2. Models\n",
    "\n",
    "#### 2.0 Data preprocessing"
   ]
  },
  {
   "cell_type": "code",
   "execution_count": 9,
   "metadata": {},
   "outputs": [],
   "source": [
    "cat = df[['int_plan', 'v_mail_plan']]\n",
    "no_cat = df[['account_length', 'total_day_minutes',\n",
    "       'total_day_calls', 'total_eve_minutes', 'total_eve_calls',\n",
    "       'total_night_minutes', 'total_night_calls', 'total_intl_minutes',\n",
    "       'total_intl_calls', 'number_customer_service_calls']]\n"
   ]
  },
  {
   "cell_type": "code",
   "execution_count": 23,
   "metadata": {},
   "outputs": [],
   "source": [
    "# Now combine X, y, and split train & test dataset\n",
    "X = pd.concat([cat, no_cat_stddf], axis=1, ignore_index=True)\n",
    "X.columns = list(cat.columns) + list(no_cat_stddf.columns)\n",
    "Y = df['churn']\n",
    "X_train, X_test, y_train, y_test = train_test_split(X, Y, test_size=0.3, random_state=7,stratify=df['churn'])\n"
   ]
  },
  {
   "cell_type": "code",
   "execution_count": 10,
   "metadata": {},
   "outputs": [],
   "source": [
    "# Standardize non categorical variables\n",
    "from sklearn.preprocessing import StandardScaler\n",
    "std = StandardScaler()\n",
    "X_train = std.fit_transform(X_train)\n",
    "X_test = std.transform(X_test)"
   ]
  },
  {
   "cell_type": "code",
   "execution_count": 11,
   "metadata": {
    "scrolled": true
   },
   "outputs": [
    {
     "data": {
      "text/html": [
       "<div>\n",
       "<style scoped>\n",
       "    .dataframe tbody tr th:only-of-type {\n",
       "        vertical-align: middle;\n",
       "    }\n",
       "\n",
       "    .dataframe tbody tr th {\n",
       "        vertical-align: top;\n",
       "    }\n",
       "\n",
       "    .dataframe thead th {\n",
       "        text-align: right;\n",
       "    }\n",
       "</style>\n",
       "<table border=\"1\" class=\"dataframe\">\n",
       "  <thead>\n",
       "    <tr style=\"text-align: right;\">\n",
       "      <th></th>\n",
       "      <th>account_length</th>\n",
       "      <th>total_day_minutes</th>\n",
       "      <th>total_day_calls</th>\n",
       "      <th>total_eve_minutes</th>\n",
       "      <th>total_eve_calls</th>\n",
       "      <th>total_night_minutes</th>\n",
       "      <th>total_night_calls</th>\n",
       "      <th>total_intl_minutes</th>\n",
       "      <th>total_intl_calls</th>\n",
       "      <th>number_customer_service_calls</th>\n",
       "    </tr>\n",
       "  </thead>\n",
       "  <tbody>\n",
       "    <tr>\n",
       "      <th>count</th>\n",
       "      <td>4848.000000</td>\n",
       "      <td>4848.000000</td>\n",
       "      <td>4848.000000</td>\n",
       "      <td>4848.000000</td>\n",
       "      <td>4848.000000</td>\n",
       "      <td>4848.000000</td>\n",
       "      <td>4848.000000</td>\n",
       "      <td>4848.000000</td>\n",
       "      <td>4848.000000</td>\n",
       "      <td>4848.000000</td>\n",
       "    </tr>\n",
       "    <tr>\n",
       "      <th>mean</th>\n",
       "      <td>100.470710</td>\n",
       "      <td>183.803507</td>\n",
       "      <td>99.977723</td>\n",
       "      <td>201.381621</td>\n",
       "      <td>100.135107</td>\n",
       "      <td>201.243791</td>\n",
       "      <td>99.761757</td>\n",
       "      <td>10.302496</td>\n",
       "      <td>4.400578</td>\n",
       "      <td>1.647483</td>\n",
       "    </tr>\n",
       "    <tr>\n",
       "      <th>std</th>\n",
       "      <td>39.658824</td>\n",
       "      <td>56.887760</td>\n",
       "      <td>19.993343</td>\n",
       "      <td>50.479266</td>\n",
       "      <td>19.887732</td>\n",
       "      <td>50.215052</td>\n",
       "      <td>20.113254</td>\n",
       "      <td>2.766847</td>\n",
       "      <td>2.484533</td>\n",
       "      <td>1.405180</td>\n",
       "    </tr>\n",
       "    <tr>\n",
       "      <th>min</th>\n",
       "      <td>1.000000</td>\n",
       "      <td>0.000000</td>\n",
       "      <td>0.000000</td>\n",
       "      <td>0.000000</td>\n",
       "      <td>0.000000</td>\n",
       "      <td>0.000000</td>\n",
       "      <td>0.000000</td>\n",
       "      <td>0.000000</td>\n",
       "      <td>0.000000</td>\n",
       "      <td>0.000000</td>\n",
       "    </tr>\n",
       "    <tr>\n",
       "      <th>25%</th>\n",
       "      <td>73.000000</td>\n",
       "      <td>143.975000</td>\n",
       "      <td>87.000000</td>\n",
       "      <td>167.300000</td>\n",
       "      <td>87.000000</td>\n",
       "      <td>167.800000</td>\n",
       "      <td>86.000000</td>\n",
       "      <td>8.600000</td>\n",
       "      <td>3.000000</td>\n",
       "      <td>1.000000</td>\n",
       "    </tr>\n",
       "    <tr>\n",
       "      <th>50%</th>\n",
       "      <td>100.000000</td>\n",
       "      <td>182.650000</td>\n",
       "      <td>100.000000</td>\n",
       "      <td>202.200000</td>\n",
       "      <td>100.000000</td>\n",
       "      <td>201.500000</td>\n",
       "      <td>100.000000</td>\n",
       "      <td>10.400000</td>\n",
       "      <td>4.000000</td>\n",
       "      <td>1.000000</td>\n",
       "    </tr>\n",
       "    <tr>\n",
       "      <th>75%</th>\n",
       "      <td>127.000000</td>\n",
       "      <td>222.100000</td>\n",
       "      <td>113.000000</td>\n",
       "      <td>235.300000</td>\n",
       "      <td>114.000000</td>\n",
       "      <td>235.300000</td>\n",
       "      <td>113.250000</td>\n",
       "      <td>12.100000</td>\n",
       "      <td>6.000000</td>\n",
       "      <td>2.000000</td>\n",
       "    </tr>\n",
       "    <tr>\n",
       "      <th>max</th>\n",
       "      <td>243.000000</td>\n",
       "      <td>351.500000</td>\n",
       "      <td>165.000000</td>\n",
       "      <td>359.300000</td>\n",
       "      <td>170.000000</td>\n",
       "      <td>395.000000</td>\n",
       "      <td>175.000000</td>\n",
       "      <td>20.000000</td>\n",
       "      <td>20.000000</td>\n",
       "      <td>9.000000</td>\n",
       "    </tr>\n",
       "  </tbody>\n",
       "</table>\n",
       "</div>"
      ],
      "text/plain": [
       "       account_length  total_day_minutes  total_day_calls  total_eve_minutes  \\\n",
       "count     4848.000000        4848.000000      4848.000000        4848.000000   \n",
       "mean       100.470710         183.803507        99.977723         201.381621   \n",
       "std         39.658824          56.887760        19.993343          50.479266   \n",
       "min          1.000000           0.000000         0.000000           0.000000   \n",
       "25%         73.000000         143.975000        87.000000         167.300000   \n",
       "50%        100.000000         182.650000       100.000000         202.200000   \n",
       "75%        127.000000         222.100000       113.000000         235.300000   \n",
       "max        243.000000         351.500000       165.000000         359.300000   \n",
       "\n",
       "       total_eve_calls  total_night_minutes  total_night_calls  \\\n",
       "count      4848.000000          4848.000000        4848.000000   \n",
       "mean        100.135107           201.243791          99.761757   \n",
       "std          19.887732            50.215052          20.113254   \n",
       "min           0.000000             0.000000           0.000000   \n",
       "25%          87.000000           167.800000          86.000000   \n",
       "50%         100.000000           201.500000         100.000000   \n",
       "75%         114.000000           235.300000         113.250000   \n",
       "max         170.000000           395.000000         175.000000   \n",
       "\n",
       "       total_intl_minutes  total_intl_calls  number_customer_service_calls  \n",
       "count         4848.000000       4848.000000                    4848.000000  \n",
       "mean            10.302496          4.400578                       1.647483  \n",
       "std              2.766847          2.484533                       1.405180  \n",
       "min              0.000000          0.000000                       0.000000  \n",
       "25%              8.600000          3.000000                       1.000000  \n",
       "50%             10.400000          4.000000                       1.000000  \n",
       "75%             12.100000          6.000000                       2.000000  \n",
       "max             20.000000         20.000000                       9.000000  "
      ]
     },
     "execution_count": 11,
     "metadata": {},
     "output_type": "execute_result"
    }
   ],
   "source": [
    "no_cat.describe()"
   ]
  },
  {
   "cell_type": "code",
   "execution_count": 12,
   "metadata": {
    "scrolled": true
   },
   "outputs": [
    {
     "data": {
      "text/html": [
       "<div>\n",
       "<style scoped>\n",
       "    .dataframe tbody tr th:only-of-type {\n",
       "        vertical-align: middle;\n",
       "    }\n",
       "\n",
       "    .dataframe tbody tr th {\n",
       "        vertical-align: top;\n",
       "    }\n",
       "\n",
       "    .dataframe thead th {\n",
       "        text-align: right;\n",
       "    }\n",
       "</style>\n",
       "<table border=\"1\" class=\"dataframe\">\n",
       "  <thead>\n",
       "    <tr style=\"text-align: right;\">\n",
       "      <th></th>\n",
       "      <th>account_length</th>\n",
       "      <th>total_day_minutes</th>\n",
       "      <th>total_day_calls</th>\n",
       "      <th>total_eve_minutes</th>\n",
       "      <th>total_eve_calls</th>\n",
       "      <th>total_night_minutes</th>\n",
       "      <th>total_night_calls</th>\n",
       "      <th>total_intl_minutes</th>\n",
       "      <th>total_intl_calls</th>\n",
       "      <th>number_customer_service_calls</th>\n",
       "    </tr>\n",
       "  </thead>\n",
       "  <tbody>\n",
       "    <tr>\n",
       "      <th>count</th>\n",
       "      <td>4.848000e+03</td>\n",
       "      <td>4.848000e+03</td>\n",
       "      <td>4.848000e+03</td>\n",
       "      <td>4.848000e+03</td>\n",
       "      <td>4.848000e+03</td>\n",
       "      <td>4.848000e+03</td>\n",
       "      <td>4.848000e+03</td>\n",
       "      <td>4.848000e+03</td>\n",
       "      <td>4.848000e+03</td>\n",
       "      <td>4.848000e+03</td>\n",
       "    </tr>\n",
       "    <tr>\n",
       "      <th>mean</th>\n",
       "      <td>-8.546233e-17</td>\n",
       "      <td>1.328237e-16</td>\n",
       "      <td>-2.641589e-16</td>\n",
       "      <td>3.580744e-16</td>\n",
       "      <td>-1.169078e-17</td>\n",
       "      <td>-2.579528e-16</td>\n",
       "      <td>3.609141e-17</td>\n",
       "      <td>-3.503798e-18</td>\n",
       "      <td>9.226095e-17</td>\n",
       "      <td>2.011936e-15</td>\n",
       "    </tr>\n",
       "    <tr>\n",
       "      <th>std</th>\n",
       "      <td>1.000103e+00</td>\n",
       "      <td>1.000103e+00</td>\n",
       "      <td>1.000103e+00</td>\n",
       "      <td>1.000103e+00</td>\n",
       "      <td>1.000103e+00</td>\n",
       "      <td>1.000103e+00</td>\n",
       "      <td>1.000103e+00</td>\n",
       "      <td>1.000103e+00</td>\n",
       "      <td>1.000103e+00</td>\n",
       "      <td>1.000103e+00</td>\n",
       "    </tr>\n",
       "    <tr>\n",
       "      <th>min</th>\n",
       "      <td>-2.508420e+00</td>\n",
       "      <td>-3.231318e+00</td>\n",
       "      <td>-5.001066e+00</td>\n",
       "      <td>-3.989804e+00</td>\n",
       "      <td>-5.035538e+00</td>\n",
       "      <td>-4.008052e+00</td>\n",
       "      <td>-4.960513e+00</td>\n",
       "      <td>-3.723936e+00</td>\n",
       "      <td>-1.771371e+00</td>\n",
       "      <td>-1.172557e+00</td>\n",
       "    </tr>\n",
       "    <tr>\n",
       "      <th>25%</th>\n",
       "      <td>-6.927473e-01</td>\n",
       "      <td>-7.001966e-01</td>\n",
       "      <td>-6.491691e-01</td>\n",
       "      <td>-6.752304e-01</td>\n",
       "      <td>-6.605309e-01</td>\n",
       "      <td>-6.660800e-01</td>\n",
       "      <td>-6.842840e-01</td>\n",
       "      <td>-6.153834e-01</td>\n",
       "      <td>-5.637767e-01</td>\n",
       "      <td>-4.608309e-01</td>\n",
       "    </tr>\n",
       "    <tr>\n",
       "      <th>50%</th>\n",
       "      <td>-1.187020e-02</td>\n",
       "      <td>-2.027898e-02</td>\n",
       "      <td>1.114347e-03</td>\n",
       "      <td>1.621385e-02</td>\n",
       "      <td>-6.794199e-03</td>\n",
       "      <td>5.102756e-03</td>\n",
       "      <td>1.184628e-02</td>\n",
       "      <td>3.524380e-02</td>\n",
       "      <td>-1.612451e-01</td>\n",
       "      <td>-4.608309e-01</td>\n",
       "    </tr>\n",
       "    <tr>\n",
       "      <th>75%</th>\n",
       "      <td>6.690069e-01</td>\n",
       "      <td>6.732633e-01</td>\n",
       "      <td>6.513978e-01</td>\n",
       "      <td>6.719963e-01</td>\n",
       "      <td>6.972300e-01</td>\n",
       "      <td>6.782771e-01</td>\n",
       "      <td>6.706838e-01</td>\n",
       "      <td>6.497250e-01</td>\n",
       "      <td>6.438180e-01</td>\n",
       "      <td>2.508952e-01</td>\n",
       "    </tr>\n",
       "    <tr>\n",
       "      <th>max</th>\n",
       "      <td>3.594257e+00</td>\n",
       "      <td>2.948152e+00</td>\n",
       "      <td>3.252532e+00</td>\n",
       "      <td>3.128704e+00</td>\n",
       "      <td>3.513327e+00</td>\n",
       "      <td>3.858927e+00</td>\n",
       "      <td>3.741115e+00</td>\n",
       "      <td>3.505255e+00</td>\n",
       "      <td>6.279260e+00</td>\n",
       "      <td>5.232978e+00</td>\n",
       "    </tr>\n",
       "  </tbody>\n",
       "</table>\n",
       "</div>"
      ],
      "text/plain": [
       "       account_length  total_day_minutes  total_day_calls  total_eve_minutes  \\\n",
       "count    4.848000e+03       4.848000e+03     4.848000e+03       4.848000e+03   \n",
       "mean    -8.546233e-17       1.328237e-16    -2.641589e-16       3.580744e-16   \n",
       "std      1.000103e+00       1.000103e+00     1.000103e+00       1.000103e+00   \n",
       "min     -2.508420e+00      -3.231318e+00    -5.001066e+00      -3.989804e+00   \n",
       "25%     -6.927473e-01      -7.001966e-01    -6.491691e-01      -6.752304e-01   \n",
       "50%     -1.187020e-02      -2.027898e-02     1.114347e-03       1.621385e-02   \n",
       "75%      6.690069e-01       6.732633e-01     6.513978e-01       6.719963e-01   \n",
       "max      3.594257e+00       2.948152e+00     3.252532e+00       3.128704e+00   \n",
       "\n",
       "       total_eve_calls  total_night_minutes  total_night_calls  \\\n",
       "count     4.848000e+03         4.848000e+03       4.848000e+03   \n",
       "mean     -1.169078e-17        -2.579528e-16       3.609141e-17   \n",
       "std       1.000103e+00         1.000103e+00       1.000103e+00   \n",
       "min      -5.035538e+00        -4.008052e+00      -4.960513e+00   \n",
       "25%      -6.605309e-01        -6.660800e-01      -6.842840e-01   \n",
       "50%      -6.794199e-03         5.102756e-03       1.184628e-02   \n",
       "75%       6.972300e-01         6.782771e-01       6.706838e-01   \n",
       "max       3.513327e+00         3.858927e+00       3.741115e+00   \n",
       "\n",
       "       total_intl_minutes  total_intl_calls  number_customer_service_calls  \n",
       "count        4.848000e+03      4.848000e+03                   4.848000e+03  \n",
       "mean        -3.503798e-18      9.226095e-17                   2.011936e-15  \n",
       "std          1.000103e+00      1.000103e+00                   1.000103e+00  \n",
       "min         -3.723936e+00     -1.771371e+00                  -1.172557e+00  \n",
       "25%         -6.153834e-01     -5.637767e-01                  -4.608309e-01  \n",
       "50%          3.524380e-02     -1.612451e-01                  -4.608309e-01  \n",
       "75%          6.497250e-01      6.438180e-01                   2.508952e-01  \n",
       "max          3.505255e+00      6.279260e+00                   5.232978e+00  "
      ]
     },
     "execution_count": 12,
     "metadata": {},
     "output_type": "execute_result"
    }
   ],
   "source": [
    "no_cat_stddf = pd.DataFrame(no_cat_std, columns=no_cat.columns)\n",
    "no_cat_stddf.describe()"
   ]
  },
  {
   "cell_type": "code",
   "execution_count": 15,
   "metadata": {},
   "outputs": [
    {
     "data": {
      "text/plain": [
       "['int_plan', 'v_mail_plan']"
      ]
     },
     "execution_count": 15,
     "metadata": {},
     "output_type": "execute_result"
    }
   ],
   "source": [
    "list(cat.columns)"
   ]
  },
  {
   "cell_type": "code",
   "execution_count": 14,
   "metadata": {},
   "outputs": [],
   "source": [
    "# Now combine X, y, and split train & test dataset\n",
    "X = pd.concat([cat, no_cat_stddf], axis=1, ignore_index=True)\n",
    "X.columns = list(cat.columns) + list(no_cat_stddf.columns)\n",
    "Y = df['churn']\n",
    "X_train, X_test, y_train, y_test = train_test_split(X, Y, test_size=0.3, random_state=7,stratify=df['churn'])\n"
   ]
  },
  {
   "cell_type": "code",
   "execution_count": 13,
   "metadata": {},
   "outputs": [],
   "source": [
    "from sklearn.preprocessing import OneHotEncoder\n",
    "from sklearn.model_selection import train_test_split\n",
    "from sklearn.metrics import accuracy_score\n",
    "from sklearn.linear_model import LogisticRegression\n",
    "import xgboost as xgb\n",
    "from sklearn.metrics import roc_auc_score\n",
    "from xgboost import plot_importance\n",
    "from sklearn.linear_model import Lasso,LassoCV,LassoLarsCV\n",
    "from sklearn.model_selection import GridSearchCV\n",
    "from sklearn.model_selection import StratifiedKFold\n",
    "import matplotlib.pyplot as plt\n",
    "from sklearn import linear_model\n",
    "import sklearn.metrics\n",
    "from xgboost import XGBClassifier\n",
    "from numpy import sort\n",
    "from sklearn.feature_selection import SelectFromModel\n",
    "from sklearn.metrics import confusion_matrix\n",
    "import lucem_illud"
   ]
  },
  {
   "cell_type": "code",
   "execution_count": 107,
   "metadata": {
    "collapsed": true
   },
   "outputs": [
    {
     "name": "stdout",
     "output_type": "stream",
     "text": [
      "^C\r\n",
      "\r\n",
      "CondaError: KeyboardInterrupt\r\n",
      "\r\n"
     ]
    }
   ],
   "source": [
    "import sys\n",
    "!conda install --yes --prefix {sys.prefix} xgboost"
   ]
  },
  {
   "cell_type": "code",
   "execution_count": 150,
   "metadata": {
    "scrolled": true
   },
   "outputs": [
    {
     "data": {
      "text/html": [
       "<div>\n",
       "<style scoped>\n",
       "    .dataframe tbody tr th:only-of-type {\n",
       "        vertical-align: middle;\n",
       "    }\n",
       "\n",
       "    .dataframe tbody tr th {\n",
       "        vertical-align: top;\n",
       "    }\n",
       "\n",
       "    .dataframe thead th {\n",
       "        text-align: right;\n",
       "    }\n",
       "</style>\n",
       "<table border=\"1\" class=\"dataframe\">\n",
       "  <thead>\n",
       "    <tr style=\"text-align: right;\">\n",
       "      <th></th>\n",
       "      <th>int_plan</th>\n",
       "      <th>v_mail_plan</th>\n",
       "      <th>account_length</th>\n",
       "      <th>total_day_minutes</th>\n",
       "      <th>total_day_calls</th>\n",
       "      <th>total_eve_minutes</th>\n",
       "      <th>total_eve_calls</th>\n",
       "      <th>total_night_minutes</th>\n",
       "      <th>total_night_calls</th>\n",
       "      <th>total_intl_minutes</th>\n",
       "      <th>total_intl_calls</th>\n",
       "      <th>number_customer_service_calls</th>\n",
       "    </tr>\n",
       "  </thead>\n",
       "  <tbody>\n",
       "    <tr>\n",
       "      <th>2661</th>\n",
       "      <td>False</td>\n",
       "      <td>False</td>\n",
       "      <td>-0.238829</td>\n",
       "      <td>-0.643500</td>\n",
       "      <td>1.051572</td>\n",
       "      <td>-0.518714</td>\n",
       "      <td>-0.660531</td>\n",
       "      <td>-1.293447</td>\n",
       "      <td>-0.982625</td>\n",
       "      <td>1.083476</td>\n",
       "      <td>-0.563777</td>\n",
       "      <td>0.250895</td>\n",
       "    </tr>\n",
       "    <tr>\n",
       "      <th>4604</th>\n",
       "      <td>False</td>\n",
       "      <td>False</td>\n",
       "      <td>-0.037088</td>\n",
       "      <td>1.276267</td>\n",
       "      <td>-2.800107</td>\n",
       "      <td>0.259903</td>\n",
       "      <td>0.244643</td>\n",
       "      <td>0.646411</td>\n",
       "      <td>-1.231243</td>\n",
       "      <td>-0.868405</td>\n",
       "      <td>-1.368840</td>\n",
       "      <td>0.962621</td>\n",
       "    </tr>\n",
       "    <tr>\n",
       "      <th>3491</th>\n",
       "      <td>False</td>\n",
       "      <td>False</td>\n",
       "      <td>1.879455</td>\n",
       "      <td>0.021035</td>\n",
       "      <td>0.201202</td>\n",
       "      <td>2.464996</td>\n",
       "      <td>-0.710818</td>\n",
       "      <td>-2.307191</td>\n",
       "      <td>0.260464</td>\n",
       "      <td>1.553374</td>\n",
       "      <td>-0.966308</td>\n",
       "      <td>-0.460831</td>\n",
       "    </tr>\n",
       "    <tr>\n",
       "      <th>4782</th>\n",
       "      <td>True</td>\n",
       "      <td>False</td>\n",
       "      <td>0.946401</td>\n",
       "      <td>1.358895</td>\n",
       "      <td>-0.198973</td>\n",
       "      <td>-0.603907</td>\n",
       "      <td>0.998955</td>\n",
       "      <td>-2.591996</td>\n",
       "      <td>-0.535113</td>\n",
       "      <td>-3.723936</td>\n",
       "      <td>-1.771371</td>\n",
       "      <td>0.962621</td>\n",
       "    </tr>\n",
       "    <tr>\n",
       "      <th>2016</th>\n",
       "      <td>False</td>\n",
       "      <td>False</td>\n",
       "      <td>0.341177</td>\n",
       "      <td>0.070260</td>\n",
       "      <td>0.451311</td>\n",
       "      <td>-0.926845</td>\n",
       "      <td>-0.157657</td>\n",
       "      <td>0.252066</td>\n",
       "      <td>0.111293</td>\n",
       "      <td>-0.073194</td>\n",
       "      <td>-0.563777</td>\n",
       "      <td>0.250895</td>\n",
       "    </tr>\n",
       "  </tbody>\n",
       "</table>\n",
       "</div>"
      ],
      "text/plain": [
       "      int_plan  v_mail_plan  account_length  total_day_minutes  \\\n",
       "2661     False        False       -0.238829          -0.643500   \n",
       "4604     False        False       -0.037088           1.276267   \n",
       "3491     False        False        1.879455           0.021035   \n",
       "4782      True        False        0.946401           1.358895   \n",
       "2016     False        False        0.341177           0.070260   \n",
       "\n",
       "      total_day_calls  total_eve_minutes  total_eve_calls  \\\n",
       "2661         1.051572          -0.518714        -0.660531   \n",
       "4604        -2.800107           0.259903         0.244643   \n",
       "3491         0.201202           2.464996        -0.710818   \n",
       "4782        -0.198973          -0.603907         0.998955   \n",
       "2016         0.451311          -0.926845        -0.157657   \n",
       "\n",
       "      total_night_minutes  total_night_calls  total_intl_minutes  \\\n",
       "2661            -1.293447          -0.982625            1.083476   \n",
       "4604             0.646411          -1.231243           -0.868405   \n",
       "3491            -2.307191           0.260464            1.553374   \n",
       "4782            -2.591996          -0.535113           -3.723936   \n",
       "2016             0.252066           0.111293           -0.073194   \n",
       "\n",
       "      total_intl_calls  number_customer_service_calls  \n",
       "2661         -0.563777                       0.250895  \n",
       "4604         -1.368840                       0.962621  \n",
       "3491         -0.966308                      -0.460831  \n",
       "4782         -1.771371                       0.962621  \n",
       "2016         -0.563777                       0.250895  "
      ]
     },
     "execution_count": 150,
     "metadata": {},
     "output_type": "execute_result"
    }
   ],
   "source": [
    "X_test.head()"
   ]
  },
  {
   "cell_type": "code",
   "execution_count": 15,
   "metadata": {},
   "outputs": [
    {
     "data": {
      "text/plain": [
       "(1455, 2)"
      ]
     },
     "execution_count": 15,
     "metadata": {},
     "output_type": "execute_result"
    }
   ],
   "source": [
    "test_DF = pd.DataFrame()\n",
    "test_DF['vect'] = X_test.values.tolist()\n",
    "test_DF['category'] = y_test.values\n",
    "test_DF.shape"
   ]
  },
  {
   "cell_type": "markdown",
   "metadata": {},
   "source": [
    "#### Helper function"
   ]
  },
  {
   "cell_type": "code",
   "execution_count": 19,
   "metadata": {},
   "outputs": [],
   "source": [
    "def evaluateClassifier(clf, X_test, y_test):\n",
    "    predictions = clf.predict(X_test)\n",
    "    classes = []\n",
    "    results = {\n",
    "        'Error_Rate' : [],\n",
    "        'AUC' : [],\n",
    "        'Precision' : [],\n",
    "        'Average_Precision' : [],\n",
    "        'Recall' : [],\n",
    "        }\n",
    "\n",
    "    for cat in set(y_test):\n",
    "        preds = [True if (c == cat) else False for c in predictions]\n",
    "        acts = [True if (c == cat) else False for c in y_test.values]\n",
    "        classes.append(cat)\n",
    "        results['AUC'].append(sklearn.metrics.roc_auc_score(acts, preds))\n",
    "        results['Average_Precision'].append(sklearn.metrics.average_precision_score(acts, preds))\n",
    "        results['Precision'].append(sklearn.metrics.precision_score(acts, preds))\n",
    "        results['Recall'].append(sklearn.metrics.recall_score(acts, preds))\n",
    "        results['Error_Rate'].append(1 -  sklearn.metrics.accuracy_score(acts, preds))\n",
    "    df = pd.DataFrame(results, index=classes)\n",
    "    df.index.rename('Churn', inplace=True)\n",
    "    return df\n"
   ]
  },
  {
   "cell_type": "code",
   "execution_count": 58,
   "metadata": {},
   "outputs": [],
   "source": [
    "comp = pd.DataFrame(columns=X_train.columns)\n"
   ]
  },
  {
   "cell_type": "markdown",
   "metadata": {},
   "source": [
    "### 2.1 Logistic Regression"
   ]
  },
  {
   "cell_type": "code",
   "execution_count": 53,
   "metadata": {},
   "outputs": [
    {
     "data": {
      "text/plain": [
       "0.7842"
      ]
     },
     "execution_count": 53,
     "metadata": {},
     "output_type": "execute_result"
    }
   ],
   "source": [
    "from sklearn.linear_model import LogisticRegression\n",
    "clf_lr = LogisticRegression(random_state=314).fit(X_train, y_train)\n",
    "round(clf_lr.score(X_test, y_test), 4)\n"
   ]
  },
  {
   "cell_type": "code",
   "execution_count": 61,
   "metadata": {},
   "outputs": [
    {
     "data": {
      "text/html": [
       "<div>\n",
       "<style scoped>\n",
       "    .dataframe tbody tr th:only-of-type {\n",
       "        vertical-align: middle;\n",
       "    }\n",
       "\n",
       "    .dataframe tbody tr th {\n",
       "        vertical-align: top;\n",
       "    }\n",
       "\n",
       "    .dataframe thead th {\n",
       "        text-align: right;\n",
       "    }\n",
       "</style>\n",
       "<table border=\"1\" class=\"dataframe\">\n",
       "  <thead>\n",
       "    <tr style=\"text-align: right;\">\n",
       "      <th></th>\n",
       "      <th>int_plan</th>\n",
       "      <th>v_mail_plan</th>\n",
       "      <th>account_length</th>\n",
       "      <th>total_day_minutes</th>\n",
       "      <th>total_day_calls</th>\n",
       "      <th>total_eve_minutes</th>\n",
       "      <th>total_eve_calls</th>\n",
       "      <th>total_night_minutes</th>\n",
       "      <th>total_night_calls</th>\n",
       "      <th>total_intl_minutes</th>\n",
       "      <th>total_intl_calls</th>\n",
       "      <th>number_customer_service_calls</th>\n",
       "    </tr>\n",
       "  </thead>\n",
       "  <tbody>\n",
       "    <tr>\n",
       "      <th>LR</th>\n",
       "      <td>2.137536</td>\n",
       "      <td>-1.069625</td>\n",
       "      <td>0.045515</td>\n",
       "      <td>0.827259</td>\n",
       "      <td>0.055652</td>\n",
       "      <td>0.248129</td>\n",
       "      <td>-0.001181</td>\n",
       "      <td>0.186633</td>\n",
       "      <td>-0.066756</td>\n",
       "      <td>0.212083</td>\n",
       "      <td>-0.065454</td>\n",
       "      <td>0.844004</td>\n",
       "    </tr>\n",
       "  </tbody>\n",
       "</table>\n",
       "</div>"
      ],
      "text/plain": [
       "    int_plan  v_mail_plan  account_length  total_day_minutes  total_day_calls  \\\n",
       "LR  2.137536    -1.069625        0.045515           0.827259         0.055652   \n",
       "\n",
       "    total_eve_minutes  total_eve_calls  total_night_minutes  \\\n",
       "LR           0.248129        -0.001181             0.186633   \n",
       "\n",
       "    total_night_calls  total_intl_minutes  total_intl_calls  \\\n",
       "LR          -0.066756            0.212083         -0.065454   \n",
       "\n",
       "    number_customer_service_calls  \n",
       "LR                       0.844004  "
      ]
     },
     "execution_count": 61,
     "metadata": {},
     "output_type": "execute_result"
    }
   ],
   "source": [
    "comp.loc['LR'] = clf_lr.coef_[0]\n"
   ]
  },
  {
   "cell_type": "code",
   "execution_count": 136,
   "metadata": {},
   "outputs": [
    {
     "data": {
      "text/html": [
       "<div>\n",
       "<style scoped>\n",
       "    .dataframe tbody tr th:only-of-type {\n",
       "        vertical-align: middle;\n",
       "    }\n",
       "\n",
       "    .dataframe tbody tr th {\n",
       "        vertical-align: top;\n",
       "    }\n",
       "\n",
       "    .dataframe thead th {\n",
       "        text-align: right;\n",
       "    }\n",
       "</style>\n",
       "<table border=\"1\" class=\"dataframe\">\n",
       "  <thead>\n",
       "    <tr style=\"text-align: right;\">\n",
       "      <th></th>\n",
       "      <th>Error_Rate</th>\n",
       "      <th>AUC</th>\n",
       "      <th>Precision</th>\n",
       "      <th>Average_Precision</th>\n",
       "      <th>Recall</th>\n",
       "    </tr>\n",
       "    <tr>\n",
       "      <th>Churn</th>\n",
       "      <th></th>\n",
       "      <th></th>\n",
       "      <th></th>\n",
       "      <th></th>\n",
       "      <th></th>\n",
       "    </tr>\n",
       "  </thead>\n",
       "  <tbody>\n",
       "    <tr>\n",
       "      <th>False</th>\n",
       "      <td>0.215808</td>\n",
       "      <td>0.640408</td>\n",
       "      <td>0.814309</td>\n",
       "      <td>0.809686</td>\n",
       "      <td>0.924270</td>\n",
       "    </tr>\n",
       "    <tr>\n",
       "      <th>True</th>\n",
       "      <td>0.215808</td>\n",
       "      <td>0.640408</td>\n",
       "      <td>0.606635</td>\n",
       "      <td>0.375056</td>\n",
       "      <td>0.356546</td>\n",
       "    </tr>\n",
       "  </tbody>\n",
       "</table>\n",
       "</div>"
      ],
      "text/plain": [
       "       Error_Rate       AUC  Precision  Average_Precision    Recall\n",
       "Churn                                                              \n",
       "False    0.215808  0.640408   0.814309           0.809686  0.924270\n",
       "True     0.215808  0.640408   0.606635           0.375056  0.356546"
      ]
     },
     "execution_count": 136,
     "metadata": {},
     "output_type": "execute_result"
    }
   ],
   "source": [
    "evaluateClassifier(clf_lr, X_test, y_test)"
   ]
  },
  {
   "cell_type": "code",
   "execution_count": 139,
   "metadata": {
    "scrolled": true
   },
   "outputs": [
    {
     "name": "stderr",
     "output_type": "stream",
     "text": [
      "/opt/anaconda3/lib/python3.7/site-packages/sklearn/base.py:451: UserWarning: X does not have valid feature names, but LogisticRegression was fitted with feature names\n",
      "  \"X does not have valid feature names, but\"\n"
     ]
    },
    {
     "data": {
      "image/png": "[encoded data removed]",
      "text/plain": [
       "<Figure size 432x288 with 1 Axes>"
      ]
     },
     "metadata": {
      "needs_background": "light"
     },
     "output_type": "display_data"
    }
   ],
   "source": [
    "lucem_illud.plotConfusionMatrix(clf_lr, test_DF)"
   ]
  },
  {
   "cell_type": "markdown",
   "metadata": {},
   "source": [
    "### 2.2 SVM"
   ]
  },
  {
   "cell_type": "code",
   "execution_count": 63,
   "metadata": {},
   "outputs": [
    {
     "data": {
      "text/plain": [
       "0.789"
      ]
     },
     "execution_count": 63,
     "metadata": {},
     "output_type": "execute_result"
    }
   ],
   "source": [
    "from sklearn import svm\n",
    "clf_svm = svm.SVC(kernel='linear', probability = False)\n",
    "clf_svm.fit(X_train, y_train)\n",
    "round(clf_svm.score(X_test, y_test), 4)"
   ]
  },
  {
   "cell_type": "code",
   "execution_count": 64,
   "metadata": {},
   "outputs": [],
   "source": [
    "comp.loc['SVM'] = clf_svm.coef_[0]\n"
   ]
  },
  {
   "cell_type": "code",
   "execution_count": 164,
   "metadata": {},
   "outputs": [
    {
     "data": {
      "text/html": [
       "<div>\n",
       "<style scoped>\n",
       "    .dataframe tbody tr th:only-of-type {\n",
       "        vertical-align: middle;\n",
       "    }\n",
       "\n",
       "    .dataframe tbody tr th {\n",
       "        vertical-align: top;\n",
       "    }\n",
       "\n",
       "    .dataframe thead th {\n",
       "        text-align: right;\n",
       "    }\n",
       "</style>\n",
       "<table border=\"1\" class=\"dataframe\">\n",
       "  <thead>\n",
       "    <tr style=\"text-align: right;\">\n",
       "      <th></th>\n",
       "      <th>Error_Rate</th>\n",
       "      <th>AUC</th>\n",
       "      <th>Precision</th>\n",
       "      <th>Average_Precision</th>\n",
       "      <th>Recall</th>\n",
       "    </tr>\n",
       "    <tr>\n",
       "      <th>Churn</th>\n",
       "      <th></th>\n",
       "      <th></th>\n",
       "      <th></th>\n",
       "      <th></th>\n",
       "      <th></th>\n",
       "    </tr>\n",
       "  </thead>\n",
       "  <tbody>\n",
       "    <tr>\n",
       "      <th>False</th>\n",
       "      <td>0.210997</td>\n",
       "      <td>0.634236</td>\n",
       "      <td>0.810386</td>\n",
       "      <td>0.806946</td>\n",
       "      <td>0.939781</td>\n",
       "    </tr>\n",
       "    <tr>\n",
       "      <th>True</th>\n",
       "      <td>0.210997</td>\n",
       "      <td>0.634236</td>\n",
       "      <td>0.641304</td>\n",
       "      <td>0.376427</td>\n",
       "      <td>0.328691</td>\n",
       "    </tr>\n",
       "  </tbody>\n",
       "</table>\n",
       "</div>"
      ],
      "text/plain": [
       "       Error_Rate       AUC  Precision  Average_Precision    Recall\n",
       "Churn                                                              \n",
       "False    0.210997  0.634236   0.810386           0.806946  0.939781\n",
       "True     0.210997  0.634236   0.641304           0.376427  0.328691"
      ]
     },
     "execution_count": 164,
     "metadata": {},
     "output_type": "execute_result"
    }
   ],
   "source": [
    "evaluateClassifier(clf_svm, X_test, y_test)"
   ]
  },
  {
   "cell_type": "code",
   "execution_count": 165,
   "metadata": {
    "scrolled": true
   },
   "outputs": [
    {
     "name": "stderr",
     "output_type": "stream",
     "text": [
      "/opt/anaconda3/lib/python3.7/site-packages/sklearn/base.py:451: UserWarning: X does not have valid feature names, but SVC was fitted with feature names\n",
      "  \"X does not have valid feature names, but\"\n"
     ]
    },
    {
     "data": {
      "image/png": "[encoded data removed]",
      "text/plain": [
       "<Figure size 432x288 with 1 Axes>"
      ]
     },
     "metadata": {
      "needs_background": "light"
     },
     "output_type": "display_data"
    }
   ],
   "source": [
    "lucem_illud.plotConfusionMatrix(clf_svm, test_DF)"
   ]
  },
  {
   "cell_type": "code",
   "execution_count": 69,
   "metadata": {},
   "outputs": [
    {
     "data": {
      "text/html": [
       "<div>\n",
       "<style scoped>\n",
       "    .dataframe tbody tr th:only-of-type {\n",
       "        vertical-align: middle;\n",
       "    }\n",
       "\n",
       "    .dataframe tbody tr th {\n",
       "        vertical-align: top;\n",
       "    }\n",
       "\n",
       "    .dataframe thead th {\n",
       "        text-align: right;\n",
       "    }\n",
       "</style>\n",
       "<table border=\"1\" class=\"dataframe\">\n",
       "  <thead>\n",
       "    <tr style=\"text-align: right;\">\n",
       "      <th></th>\n",
       "      <th>int_plan</th>\n",
       "      <th>v_mail_plan</th>\n",
       "      <th>account_length</th>\n",
       "      <th>total_day_minutes</th>\n",
       "      <th>total_day_calls</th>\n",
       "      <th>total_eve_minutes</th>\n",
       "      <th>total_eve_calls</th>\n",
       "      <th>total_night_minutes</th>\n",
       "      <th>total_night_calls</th>\n",
       "      <th>total_intl_minutes</th>\n",
       "      <th>total_intl_calls</th>\n",
       "      <th>number_customer_service_calls</th>\n",
       "    </tr>\n",
       "  </thead>\n",
       "  <tbody>\n",
       "    <tr>\n",
       "      <th>LR</th>\n",
       "      <td>2.137536</td>\n",
       "      <td>-1.069625</td>\n",
       "      <td>0.045515</td>\n",
       "      <td>0.827259</td>\n",
       "      <td>0.055652</td>\n",
       "      <td>0.248129</td>\n",
       "      <td>-0.001181</td>\n",
       "      <td>0.186633</td>\n",
       "      <td>-0.066756</td>\n",
       "      <td>0.212083</td>\n",
       "      <td>-0.065454</td>\n",
       "      <td>0.844004</td>\n",
       "    </tr>\n",
       "    <tr>\n",
       "      <th>SVM</th>\n",
       "      <td>1.652363</td>\n",
       "      <td>-0.744915</td>\n",
       "      <td>0.027438</td>\n",
       "      <td>0.473456</td>\n",
       "      <td>0.040132</td>\n",
       "      <td>0.156177</td>\n",
       "      <td>-0.005222</td>\n",
       "      <td>0.109039</td>\n",
       "      <td>-0.042691</td>\n",
       "      <td>0.124197</td>\n",
       "      <td>-0.066777</td>\n",
       "      <td>0.456468</td>\n",
       "    </tr>\n",
       "  </tbody>\n",
       "</table>\n",
       "</div>"
      ],
      "text/plain": [
       "     int_plan  v_mail_plan  account_length  total_day_minutes  \\\n",
       "LR   2.137536    -1.069625        0.045515           0.827259   \n",
       "SVM  1.652363    -0.744915        0.027438           0.473456   \n",
       "\n",
       "     total_day_calls  total_eve_minutes  total_eve_calls  total_night_minutes  \\\n",
       "LR          0.055652           0.248129        -0.001181             0.186633   \n",
       "SVM         0.040132           0.156177        -0.005222             0.109039   \n",
       "\n",
       "     total_night_calls  total_intl_minutes  total_intl_calls  \\\n",
       "LR           -0.066756            0.212083         -0.065454   \n",
       "SVM          -0.042691            0.124197         -0.066777   \n",
       "\n",
       "     number_customer_service_calls  \n",
       "LR                        0.844004  \n",
       "SVM                       0.456468  "
      ]
     },
     "execution_count": 69,
     "metadata": {},
     "output_type": "execute_result"
    }
   ],
   "source": [
    "comp"
   ]
  },
  {
   "cell_type": "markdown",
   "metadata": {},
   "source": [
    "### 2.3 KNN"
   ]
  },
  {
   "cell_type": "code",
   "execution_count": 47,
   "metadata": {},
   "outputs": [
    {
     "data": {
      "text/plain": [
       "0.9258"
      ]
     },
     "execution_count": 47,
     "metadata": {},
     "output_type": "execute_result"
    }
   ],
   "source": [
    "clf_knn = sklearn.neighbors.KNeighborsClassifier(5, weights='distance')\n",
    "clf_knn.fit(X_train, y_train)\n",
    "round(clf_knn.score(X_test, y_test), 4)"
   ]
  },
  {
   "cell_type": "code",
   "execution_count": 20,
   "metadata": {},
   "outputs": [
    {
     "data": {
      "text/html": [
       "<div>\n",
       "<style scoped>\n",
       "    .dataframe tbody tr th:only-of-type {\n",
       "        vertical-align: middle;\n",
       "    }\n",
       "\n",
       "    .dataframe tbody tr th {\n",
       "        vertical-align: top;\n",
       "    }\n",
       "\n",
       "    .dataframe thead th {\n",
       "        text-align: right;\n",
       "    }\n",
       "</style>\n",
       "<table border=\"1\" class=\"dataframe\">\n",
       "  <thead>\n",
       "    <tr style=\"text-align: right;\">\n",
       "      <th></th>\n",
       "      <th>Error_Rate</th>\n",
       "      <th>AUC</th>\n",
       "      <th>Precision</th>\n",
       "      <th>Average_Precision</th>\n",
       "      <th>Recall</th>\n",
       "    </tr>\n",
       "    <tr>\n",
       "      <th>Churn</th>\n",
       "      <th></th>\n",
       "      <th></th>\n",
       "      <th></th>\n",
       "      <th></th>\n",
       "      <th></th>\n",
       "    </tr>\n",
       "  </thead>\n",
       "  <tbody>\n",
       "    <tr>\n",
       "      <th>False</th>\n",
       "      <td>0.074227</td>\n",
       "      <td>0.888917</td>\n",
       "      <td>0.941071</td>\n",
       "      <td>0.933874</td>\n",
       "      <td>0.961679</td>\n",
       "    </tr>\n",
       "    <tr>\n",
       "      <th>True</th>\n",
       "      <td>0.074227</td>\n",
       "      <td>0.888917</td>\n",
       "      <td>0.874627</td>\n",
       "      <td>0.759193</td>\n",
       "      <td>0.816156</td>\n",
       "    </tr>\n",
       "  </tbody>\n",
       "</table>\n",
       "</div>"
      ],
      "text/plain": [
       "       Error_Rate       AUC  Precision  Average_Precision    Recall\n",
       "Churn                                                              \n",
       "False    0.074227  0.888917   0.941071           0.933874  0.961679\n",
       "True     0.074227  0.888917   0.874627           0.759193  0.816156"
      ]
     },
     "execution_count": 20,
     "metadata": {},
     "output_type": "execute_result"
    }
   ],
   "source": [
    "evaluateClassifier(clf_knn, X_test, y_test)"
   ]
  },
  {
   "cell_type": "code",
   "execution_count": 22,
   "metadata": {
    "scrolled": false
   },
   "outputs": [
    {
     "name": "stderr",
     "output_type": "stream",
     "text": [
      "/opt/anaconda3/lib/python3.7/site-packages/sklearn/base.py:451: UserWarning: X does not have valid feature names, but KNeighborsClassifier was fitted with feature names\n",
      "  \"X does not have valid feature names, but\"\n"
     ]
    },
    {
     "data": {
      "image/png": "[encoded data removed]",
      "text/plain": [
       "<Figure size 432x288 with 1 Axes>"
      ]
     },
     "metadata": {
      "needs_background": "light"
     },
     "output_type": "display_data"
    }
   ],
   "source": [
    "lucem_illud.plotConfusionMatrix(clf_knn, test_DF)"
   ]
  },
  {
   "cell_type": "code",
   "execution_count": 44,
   "metadata": {},
   "outputs": [],
   "source": [
    "from sklearn.model_selection import GridSearchCV\n",
    "def cv_knn(X_train, y_train, X_test, y_test):\n",
    "    knn = sklearn.neighbors.KNeighborsClassifier()\n",
    "    param = {\"n_neighbors\": [i for i in range(1,10)], \n",
    "             \"weights\": ['uniform', 'distance']}\n",
    "    gscv = GridSearchCV(knn, param_grid=param, cv=10)\n",
    "    gscv.fit(X_train, y_train)\n",
    "    print('best results: ', gscv.best_score_)\n",
    "    print('best k: ', gscv.best_params_)\n",
    "    "
   ]
  },
  {
   "cell_type": "code",
   "execution_count": 45,
   "metadata": {},
   "outputs": [
    {
     "name": "stdout",
     "output_type": "stream",
     "text": [
      "best results:  0.9177780669790041\n",
      "best k:  {'n_neighbors': 9, 'weights': 'distance'}\n"
     ]
    }
   ],
   "source": [
    "cv_knn(X_train, y_train, X_test, y_test)"
   ]
  },
  {
   "cell_type": "code",
   "execution_count": 48,
   "metadata": {},
   "outputs": [
    {
     "data": {
      "text/plain": [
       "0.9326"
      ]
     },
     "execution_count": 48,
     "metadata": {},
     "output_type": "execute_result"
    }
   ],
   "source": [
    "clf_knn = sklearn.neighbors.KNeighborsClassifier(9, weights='distance')\n",
    "clf_knn.fit(X_train, y_train)\n",
    "round(clf_knn.score(X_test, y_test), 4)"
   ]
  },
  {
   "cell_type": "code",
   "execution_count": 65,
   "metadata": {
    "collapsed": true
   },
   "outputs": [
    {
     "ename": "AttributeError",
     "evalue": "'KNeighborsClassifier' object has no attribute 'coef_'",
     "output_type": "error",
     "traceback": [
      "\u001b[0;31m---------------------------------------------------------------------------\u001b[0m",
      "\u001b[0;31mAttributeError\u001b[0m                            Traceback (most recent call last)",
      "\u001b[0;32m/var/folders/c4/wmcw8qt93jq2bhpt517ccpxm0000gn/T/ipykernel_688/3228465276.py\u001b[0m in \u001b[0;36m<module>\u001b[0;34m\u001b[0m\n\u001b[0;32m----> 1\u001b[0;31m \u001b[0mcomp\u001b[0m\u001b[0;34m.\u001b[0m\u001b[0mloc\u001b[0m\u001b[0;34m[\u001b[0m\u001b[0;34m'KNN'\u001b[0m\u001b[0;34m]\u001b[0m \u001b[0;34m=\u001b[0m \u001b[0mclf_knn\u001b[0m\u001b[0;34m.\u001b[0m\u001b[0mcoef_\u001b[0m\u001b[0;34m[\u001b[0m\u001b[0;36m0\u001b[0m\u001b[0;34m]\u001b[0m\u001b[0;34m\u001b[0m\u001b[0;34m\u001b[0m\u001b[0m\n\u001b[0m",
      "\u001b[0;31mAttributeError\u001b[0m: 'KNeighborsClassifier' object has no attribute 'coef_'"
     ]
    }
   ],
   "source": [
    "comp.loc['KNN'] = clf_knn.coef_[0]\n",
    "# KNN does not provide a prediction for the importance \n",
    "# or coefficients of variables. "
   ]
  },
  {
   "cell_type": "code",
   "execution_count": 49,
   "metadata": {
    "scrolled": true
   },
   "outputs": [
    {
     "data": {
      "text/html": [
       "<div>\n",
       "<style scoped>\n",
       "    .dataframe tbody tr th:only-of-type {\n",
       "        vertical-align: middle;\n",
       "    }\n",
       "\n",
       "    .dataframe tbody tr th {\n",
       "        vertical-align: top;\n",
       "    }\n",
       "\n",
       "    .dataframe thead th {\n",
       "        text-align: right;\n",
       "    }\n",
       "</style>\n",
       "<table border=\"1\" class=\"dataframe\">\n",
       "  <thead>\n",
       "    <tr style=\"text-align: right;\">\n",
       "      <th></th>\n",
       "      <th>Error_Rate</th>\n",
       "      <th>AUC</th>\n",
       "      <th>Precision</th>\n",
       "      <th>Average_Precision</th>\n",
       "      <th>Recall</th>\n",
       "    </tr>\n",
       "    <tr>\n",
       "      <th>Churn</th>\n",
       "      <th></th>\n",
       "      <th></th>\n",
       "      <th></th>\n",
       "      <th></th>\n",
       "      <th></th>\n",
       "    </tr>\n",
       "  </thead>\n",
       "  <tbody>\n",
       "    <tr>\n",
       "      <th>False</th>\n",
       "      <td>0.067354</td>\n",
       "      <td>0.891606</td>\n",
       "      <td>0.940035</td>\n",
       "      <td>0.934923</td>\n",
       "      <td>0.972628</td>\n",
       "    </tr>\n",
       "    <tr>\n",
       "      <th>True</th>\n",
       "      <td>0.067354</td>\n",
       "      <td>0.891606</td>\n",
       "      <td>0.906542</td>\n",
       "      <td>0.781565</td>\n",
       "      <td>0.810585</td>\n",
       "    </tr>\n",
       "  </tbody>\n",
       "</table>\n",
       "</div>"
      ],
      "text/plain": [
       "       Error_Rate       AUC  Precision  Average_Precision    Recall\n",
       "Churn                                                              \n",
       "False    0.067354  0.891606   0.940035           0.934923  0.972628\n",
       "True     0.067354  0.891606   0.906542           0.781565  0.810585"
      ]
     },
     "execution_count": 49,
     "metadata": {},
     "output_type": "execute_result"
    }
   ],
   "source": [
    "evaluateClassifier(clf_knn, X_test, y_test)"
   ]
  },
  {
   "cell_type": "code",
   "execution_count": 50,
   "metadata": {
    "scrolled": true
   },
   "outputs": [
    {
     "name": "stderr",
     "output_type": "stream",
     "text": [
      "/opt/anaconda3/lib/python3.7/site-packages/sklearn/base.py:451: UserWarning: X does not have valid feature names, but KNeighborsClassifier was fitted with feature names\n",
      "  \"X does not have valid feature names, but\"\n"
     ]
    },
    {
     "data": {
      "image/png": "[encoded data removed]",
      "text/plain": [
       "<Figure size 432x288 with 1 Axes>"
      ]
     },
     "metadata": {
      "needs_background": "light"
     },
     "output_type": "display_data"
    }
   ],
   "source": [
    "lucem_illud.plotConfusionMatrix(clf_knn, test_DF)"
   ]
  },
  {
   "cell_type": "markdown",
   "metadata": {},
   "source": [
    "### 2.4 RF"
   ]
  },
  {
   "cell_type": "code",
   "execution_count": 67,
   "metadata": {},
   "outputs": [
    {
     "data": {
      "text/plain": [
       "0.767"
      ]
     },
     "execution_count": 67,
     "metadata": {},
     "output_type": "execute_result"
    }
   ],
   "source": [
    "from sklearn.ensemble import RandomForestClassifier\n",
    "\n",
    "clf_rf = RandomForestClassifier(n_estimators=100, max_depth=2, random_state=0)\n",
    "clf_rf.fit(X_train, y_train)\n",
    "round(clf_rf.score(X_test, y_test), 4)"
   ]
  },
  {
   "cell_type": "code",
   "execution_count": 167,
   "metadata": {},
   "outputs": [
    {
     "data": {
      "text/html": [
       "<div>\n",
       "<style scoped>\n",
       "    .dataframe tbody tr th:only-of-type {\n",
       "        vertical-align: middle;\n",
       "    }\n",
       "\n",
       "    .dataframe tbody tr th {\n",
       "        vertical-align: top;\n",
       "    }\n",
       "\n",
       "    .dataframe thead th {\n",
       "        text-align: right;\n",
       "    }\n",
       "</style>\n",
       "<table border=\"1\" class=\"dataframe\">\n",
       "  <thead>\n",
       "    <tr style=\"text-align: right;\">\n",
       "      <th></th>\n",
       "      <th>Error_Rate</th>\n",
       "      <th>AUC</th>\n",
       "      <th>Precision</th>\n",
       "      <th>Average_Precision</th>\n",
       "      <th>Recall</th>\n",
       "    </tr>\n",
       "    <tr>\n",
       "      <th>Churn</th>\n",
       "      <th></th>\n",
       "      <th></th>\n",
       "      <th></th>\n",
       "      <th></th>\n",
       "      <th></th>\n",
       "    </tr>\n",
       "  </thead>\n",
       "  <tbody>\n",
       "    <tr>\n",
       "      <th>False</th>\n",
       "      <td>0.23299</td>\n",
       "      <td>0.528792</td>\n",
       "      <td>0.764131</td>\n",
       "      <td>0.764121</td>\n",
       "      <td>0.999088</td>\n",
       "    </tr>\n",
       "    <tr>\n",
       "      <th>True</th>\n",
       "      <td>0.23299</td>\n",
       "      <td>0.528792</td>\n",
       "      <td>0.954545</td>\n",
       "      <td>0.288139</td>\n",
       "      <td>0.058496</td>\n",
       "    </tr>\n",
       "  </tbody>\n",
       "</table>\n",
       "</div>"
      ],
      "text/plain": [
       "       Error_Rate       AUC  Precision  Average_Precision    Recall\n",
       "Churn                                                              \n",
       "False     0.23299  0.528792   0.764131           0.764121  0.999088\n",
       "True      0.23299  0.528792   0.954545           0.288139  0.058496"
      ]
     },
     "execution_count": 167,
     "metadata": {},
     "output_type": "execute_result"
    }
   ],
   "source": [
    "evaluateClassifier(clf_rf, X_test, y_test)"
   ]
  },
  {
   "cell_type": "code",
   "execution_count": 168,
   "metadata": {
    "scrolled": false
   },
   "outputs": [
    {
     "name": "stderr",
     "output_type": "stream",
     "text": [
      "/opt/anaconda3/lib/python3.7/site-packages/sklearn/base.py:451: UserWarning: X does not have valid feature names, but RandomForestClassifier was fitted with feature names\n",
      "  \"X does not have valid feature names, but\"\n"
     ]
    },
    {
     "data": {
      "image/png": "[encoded data removed]",
      "text/plain": [
       "<Figure size 432x288 with 1 Axes>"
      ]
     },
     "metadata": {
      "needs_background": "light"
     },
     "output_type": "display_data"
    }
   ],
   "source": [
    "lucem_illud.plotConfusionMatrix(clf_rf, test_DF)"
   ]
  },
  {
   "cell_type": "code",
   "execution_count": null,
   "metadata": {},
   "outputs": [],
   "source": []
  },
  {
   "cell_type": "code",
   "execution_count": null,
   "metadata": {},
   "outputs": [],
   "source": []
  },
  {
   "cell_type": "code",
   "execution_count": null,
   "metadata": {},
   "outputs": [],
   "source": []
  },
  {
   "cell_type": "code",
   "execution_count": null,
   "metadata": {},
   "outputs": [],
   "source": []
  },
  {
   "cell_type": "code",
   "execution_count": null,
   "metadata": {},
   "outputs": [],
   "source": []
  },
  {
   "cell_type": "code",
   "execution_count": null,
   "metadata": {},
   "outputs": [],
   "source": []
  }
 ],
 "metadata": {
  "kernelspec": {
   "display_name": "Python 3 (ipykernel)",
   "language": "python",
   "name": "python3"
  },
  "language_info": {
   "codemirror_mode": {
    "name": "ipython",
    "version": 3
   },
   "file_extension": ".py",
   "mimetype": "text/x-python",
   "name": "python",
   "nbconvert_exporter": "python",
   "pygments_lexer": "ipython3",
   "version": "3.7.4"
  }
 },
 "nbformat": 4,
 "nbformat_minor": 4
}
